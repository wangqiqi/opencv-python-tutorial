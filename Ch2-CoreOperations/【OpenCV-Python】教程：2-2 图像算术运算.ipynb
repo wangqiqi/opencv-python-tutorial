{
 "cells": [
  {
   "cell_type": "code",
   "execution_count": null,
   "metadata": {},
   "outputs": [],
   "source": [
    "import numpy as np\n",
    "import cv2\n",
    "\n",
    "x = np.uint8([250])\n",
    "y = np.uint8([10])\n",
    "print( cv2.add(x,y) ) # 250+10 = 260 => 255\n",
    "print( x+y )          # 250+10 = 260 % 256 = 4"
   ]
  },
  {
   "cell_type": "code",
   "execution_count": null,
   "metadata": {},
   "outputs": [],
   "source": [
    "import numpy as np\n",
    "import cv2\n",
    "\n",
    "im0 = cv2.imread('assets/opencv-logo.png')\n",
    "h0, w0, c0 = im0.shape\n",
    "resizeratio = 0.5\n",
    "\n",
    "im = cv2.resize(im0, [int(w0 * resizeratio), int(h0 * resizeratio)])\n",
    "h, w, c = im0.shape\n",
    "\n",
    "# 创建图像大小、深度与读入图像相同的图像\n",
    "h, w, c = im.shape\n",
    "img_create255 = np.zeros((h, w, c), np.uint8)\n",
    "img_create255 = img_create255 + 255\n",
    "\n",
    "imadd255_numpy = im + 255\n",
    "imadd255_cv = cv2.add(im, img_create255)\n",
    "\n",
    "cv2.imshow(\"im\", im)\n",
    "cv2.imshow(\"imadd255_numpy\", imadd255_numpy)\n",
    "cv2.imshow(\"imadd255_cv\", imadd255_cv)\n",
    "cv2.imshow(\"create\", img_create255)\n",
    "cv2.waitKey(0)\n",
    "cv2.destroyAllWindows()"
   ]
  },
  {
   "cell_type": "code",
   "execution_count": null,
   "metadata": {},
   "outputs": [],
   "source": [
    "import numpy as np\n",
    "import cv2\n",
    "\n",
    "img1 = cv2.imread('assets/ml.png')\n",
    "img2 = cv2.imread('assets/opencv-logo-white.png')\n",
    "dst = cv2.addWeighted(img1, 0.7, img2, 0.3, 0)\n",
    "\n",
    "\n",
    "cv2.imshow('ml', img1)\n",
    "cv2.imshow('logo', img2)\n",
    "cv2.imshow('dst', dst)\n",
    "cv2.waitKey(0)\n",
    "cv2.destroyAllWindows()\n"
   ]
  },
  {
   "attachments": {},
   "cell_type": "markdown",
   "metadata": {},
   "source": [
    "This includes the bitwise AND, OR, NOT, and XOR operations. They will be highly useful while extracting any part of the image (as we will see in coming chapters), defining and working with non-rectangular ROI's, and etc. Below we will see an example of how to change a particular region of an image.\n",
    "\n",
    "I want to put the OpenCV logo above an image. If I add two images, it will change the color. If I blend them, I get a transparent effect. But I want it to be opaque. If it was a rectangular region, I could use ROI as we did in the last chapter. But the OpenCV logo is a not a rectangular shape. So you can do it with bitwise operations as shown below:"
   ]
  },
  {
   "cell_type": "code",
   "execution_count": 16,
   "metadata": {},
   "outputs": [],
   "source": [
    "import numpy as np\n",
    "import cv2\n",
    "\n",
    "# 加载图像\n",
    "img1 = cv2.imread('assets/messi5.jpg')\n",
    "img2 = cv2.imread('assets/opencv-logo-white2.png')\n",
    "\n",
    "cv2.imshow('img1', img1)\n",
    "cv2.imshow('img2', img2)\n",
    "\n",
    "rows, cols, channels = img2.shape\n",
    "roi = img1[0:rows, 0:cols]\n",
    "\n",
    "roi = cv2.addWeighted(img2, 0.7, roi, 0.3, 0)\n",
    "\n",
    "img1[0:rows, 0:cols] = roi\n",
    "cv2.imshow('res', img1)\n",
    "cv2.waitKey(0)\n",
    "cv2.destroyAllWindows()\n"
   ]
  },
  {
   "cell_type": "code",
   "execution_count": 13,
   "metadata": {},
   "outputs": [],
   "source": [
    "import numpy as np\n",
    "import cv2\n",
    "\n",
    "# 加载图像\n",
    "img1 = cv2.imread('assets/messi5.jpg')\n",
    "img2 = cv2.imread('assets/opencv-logo-white2.png')\n",
    "\n",
    "# 创建一个ROI，将opencv logo 放到 messi5图像里\n",
    "# 注意，这里两幅图像的大小千万不要越界，也就是 img2 的大小不要超过 img1 的大小\n",
    "rows, cols, channels = img2.shape\n",
    "roi = img1[0:rows, 0:cols]\n",
    "\n",
    "# logo的mask图像并取反；灰度化，阈值化，取反\n",
    "img2gray = cv2.cvtColor(img2, cv2.COLOR_BGR2GRAY)\n",
    "\n",
    "# 阈值化\n",
    "ret, mask = cv2.threshold(img2gray, 10, 255, cv2.THRESH_BINARY)\n",
    "\n",
    "# 取反\n",
    "mask_inv = cv2.bitwise_not(mask)\n",
    "\n",
    "# ROI 非图标部分保留原图，\n",
    "img1_bg = cv2.bitwise_and(roi, roi, mask = mask_inv)\n",
    "\n",
    "# 保留 logo 的图标部分\n",
    "img2_fg = cv2.bitwise_and(img2, img2, mask=mask)\n",
    "\n",
    "# 两部分的图像相加\n",
    "dst = cv2.add(img1_bg, img2_fg)\n",
    "img1[0:rows, 0:cols] = dst\n",
    "\n",
    "cv2.imshow('res', img1)\n",
    "cv2.waitKey(0)\n",
    "cv2.destroyAllWindows()\n"
   ]
  }
 ],
 "metadata": {
  "kernelspec": {
   "display_name": "Python 3.8.13 ('pytorch')",
   "language": "python",
   "name": "python3"
  },
  "language_info": {
   "codemirror_mode": {
    "name": "ipython",
    "version": 3
   },
   "file_extension": ".py",
   "mimetype": "text/x-python",
   "name": "python",
   "nbconvert_exporter": "python",
   "pygments_lexer": "ipython3",
   "version": "3.8.13"
  },
  "orig_nbformat": 4,
  "vscode": {
   "interpreter": {
    "hash": "719f98299ccca36a884f9d141671719e20aaacc8082e234f139e455a4a5b836e"
   }
  }
 },
 "nbformat": 4,
 "nbformat_minor": 2
}

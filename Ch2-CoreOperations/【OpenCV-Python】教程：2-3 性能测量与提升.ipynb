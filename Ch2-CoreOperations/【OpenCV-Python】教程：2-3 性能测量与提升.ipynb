{
 "cells": [
  {
   "cell_type": "code",
   "execution_count": 4,
   "metadata": {},
   "outputs": [
    {
     "name": "stdout",
     "output_type": "stream",
     "text": [
      "0.336590686\n"
     ]
    }
   ],
   "source": [
    "import cv2 \n",
    "\n",
    "\"\"\"\n",
    "读入图片并执行中值滤波N次，测试耗时\n",
    "\"\"\"\n",
    "\n",
    "# 读入图片\n",
    "img1 = cv2.imread('assets/messi5.jpg')\n",
    "\n",
    "# 在需要测试函数或者代码片段的前后加上 cv2.getTickCount()\n",
    "e1 = cv2.getTickCount()\n",
    "for i in range(5,49,2):\n",
    "    img1 = cv2.medianBlur(img1,i)\n",
    "e2 = cv2.getTickCount()\n",
    "\n",
    "\n",
    "t = (e2 - e1)/cv2.getTickFrequency()\n",
    "print( t )"
   ]
  },
  {
   "cell_type": "code",
   "execution_count": 10,
   "metadata": {},
   "outputs": [
    {
     "name": "stdout",
     "output_type": "stream",
     "text": [
      "0.3592488765716553\n",
      "SSE SSE2 SSE3 *SSE4.1 *SSE4.2 *FP16 *AVX *AVX2 *AVX512-SKX?\n"
     ]
    }
   ],
   "source": [
    "import cv2 \n",
    "import time \n",
    "\n",
    "\"\"\"\n",
    "读入图片并执行中值滤波N次，测试耗时\n",
    "\"\"\"\n",
    "\n",
    "# 读入图片\n",
    "img1 = cv2.imread('assets/messi5.jpg')\n",
    "\n",
    "# 在需要测试函数或者代码片段的前后加上 cv2.getTickCount()\n",
    "# e1 = cv2.getTickCount()\n",
    "e1 = time.time()\n",
    "for i in range(5,49,2):\n",
    "    img1 = cv2.medianBlur(img1,i)\n",
    "# e2 = cv2.getTickCount()\n",
    "e2 = time.time()\n",
    "\n",
    "# t = (e2 - e1)/cv2.getTickFrequency()\n",
    "# print( t )\n",
    "print(e2 - e1)\n",
    "\n",
    "\n",
    "\n"
   ]
  },
  {
   "cell_type": "code",
   "execution_count": 32,
   "metadata": {},
   "outputs": [
    {
     "name": "stdout",
     "output_type": "stream",
     "text": [
      "SSE SSE2 SSE3 *SSE4.1 *SSE4.2 *FP16 *AVX *AVX2 *AVX512-SKX?\n",
      "11422541228929925\n",
      "POPCNT\n",
      "12\n",
      "12\n",
      "-1564290240\n",
      "4\n",
      "6\n",
      "0\n",
      "4.6.0\n"
     ]
    }
   ],
   "source": [
    "import cv2 \n",
    "\n",
    "# s = cv2.getBuildInformation()\n",
    "# print(s)\n",
    "\n",
    "s = cv2.getCPUFeaturesLine()\n",
    "print(s)\n",
    "\n",
    "s = cv2.getCPUTickCount()\n",
    "print(s)\n",
    "\n",
    "s = cv2.getHardwareFeatureName(8)\n",
    "print(s)\n",
    "\n",
    "s = cv2.getNumberOfCPUs()\n",
    "print(s)\n",
    "\n",
    "s = cv2.getNumThreads()\n",
    "print(s)\n",
    "\n",
    "s = cv2.getThreadNum()\n",
    "print(s)\n",
    "\n",
    "s = cv2.getVersionMajor()\n",
    "print(s)\n",
    "\n",
    "s = cv2.getVersionMinor()\n",
    "print(s)\n",
    "\n",
    "s = cv2.getVersionRevision()\n",
    "print(s)\n",
    "\n",
    "s = cv2.getVersionString()\n",
    "print(s)"
   ]
  },
  {
   "cell_type": "code",
   "execution_count": 36,
   "metadata": {},
   "outputs": [],
   "source": [
    "x = 5"
   ]
  },
  {
   "cell_type": "code",
   "execution_count": 39,
   "metadata": {},
   "outputs": [
    {
     "name": "stdout",
     "output_type": "stream",
     "text": [
      "213 ns ± 4.16 ns per loop (mean ± std. dev. of 7 runs, 1,000,000 loops each)\n"
     ]
    }
   ],
   "source": [
    "%timeit y=x**2"
   ]
  },
  {
   "cell_type": "code",
   "execution_count": 40,
   "metadata": {},
   "outputs": [
    {
     "name": "stdout",
     "output_type": "stream",
     "text": [
      "48.6 ns ± 1.45 ns per loop (mean ± std. dev. of 7 runs, 10,000,000 loops each)\n"
     ]
    }
   ],
   "source": [
    "%timeit y=x^2"
   ]
  },
  {
   "cell_type": "code",
   "execution_count": 41,
   "metadata": {},
   "outputs": [
    {
     "name": "stdout",
     "output_type": "stream",
     "text": [
      "40.1 ns ± 1.59 ns per loop (mean ± std. dev. of 7 runs, 10,000,000 loops each)\n"
     ]
    }
   ],
   "source": [
    "%timeit y=x*x"
   ]
  },
  {
   "cell_type": "code",
   "execution_count": null,
   "metadata": {},
   "outputs": [],
   "source": []
  }
 ],
 "metadata": {
  "kernelspec": {
   "display_name": "Python 3.9.12 ('base')",
   "language": "python",
   "name": "python3"
  },
  "language_info": {
   "codemirror_mode": {
    "name": "ipython",
    "version": 3
   },
   "file_extension": ".py",
   "mimetype": "text/x-python",
   "name": "python",
   "nbconvert_exporter": "python",
   "pygments_lexer": "ipython3",
   "version": "3.9.12"
  },
  "orig_nbformat": 4,
  "vscode": {
   "interpreter": {
    "hash": "21a5c39365767a2fa524ef69c1af2974b54020195af1241f50c0914f2616b7f9"
   }
  }
 },
 "nbformat": 4,
 "nbformat_minor": 2
}

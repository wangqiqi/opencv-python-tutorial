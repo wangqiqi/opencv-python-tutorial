{
 "cells": [
  {
   "cell_type": "code",
   "execution_count": 1,
   "metadata": {},
   "outputs": [],
   "source": [
    "# 导入库\n",
    "import numpy as np\n",
    "import cv2 \n",
    "\n",
    "# 从摄像头读取视频\n",
    "cap = cv2.VideoCapture(0)\n",
    "# 从文件读取视频\n",
    "# cap = cv2.VideoCapture('testvideo.avi')\n",
    "\n",
    "# 打开失败则退出\n",
    "if not cap.isOpened():\n",
    "    print(\"Cannot open camera\")\n",
    "    exit()\n",
    "\n",
    "# 定义保存视频的编码格式、分辨率和帧率等信息\n",
    "fourcc = cv2.VideoWriter_fourcc(*'XVID')\n",
    "out = cv2.VideoWriter('output.avi', fourcc, 20.0, (640,  480))\n",
    "\n",
    "# 循环读取视频并显示视频\n",
    "while True:    \n",
    "    # 获取每一帧\n",
    "    ret, frame = cap.read()\n",
    "    \n",
    "    # 获得帧图像，则返回 True\n",
    "    if not ret:\n",
    "        print(\"Can't receive frame (stream end?). Exiting ...\")\n",
    "        break\n",
    "    \n",
    "    # 显示每一帧\n",
    "    cv2.imshow('frame', frame)\n",
    "    \n",
    "    # 保存视频\n",
    "    out.write(frame)\n",
    "    \n",
    "    # 按 q 键退出\n",
    "    if cv2.waitKey(1) == ord('q'):\n",
    "        break\n",
    "\n",
    "# 释放句柄和销毁窗口\n",
    "cap.release()\n",
    "out.release()\n",
    "cv2.destroyAllWindows()"
   ]
  }
 ],
 "metadata": {
  "kernelspec": {
   "display_name": "Python 3.8.13 ('pytorch')",
   "language": "python",
   "name": "python3"
  },
  "language_info": {
   "codemirror_mode": {
    "name": "ipython",
    "version": 3
   },
   "file_extension": ".py",
   "mimetype": "text/x-python",
   "name": "python",
   "nbconvert_exporter": "python",
   "pygments_lexer": "ipython3",
   "version": "3.8.13 | packaged by conda-forge | (default, Mar 25 2022, 05:59:00) [MSC v.1929 64 bit (AMD64)]"
  },
  "orig_nbformat": 4,
  "vscode": {
   "interpreter": {
    "hash": "719f98299ccca36a884f9d141671719e20aaacc8082e234f139e455a4a5b836e"
   }
  }
 },
 "nbformat": 4,
 "nbformat_minor": 2
}

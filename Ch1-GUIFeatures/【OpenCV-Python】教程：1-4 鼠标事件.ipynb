{
 "cells": [
  {
   "cell_type": "code",
   "execution_count": 1,
   "metadata": {},
   "outputs": [
    {
     "name": "stdout",
     "output_type": "stream",
     "text": [
      "['EVENT_FLAG_ALTKEY', 'EVENT_FLAG_CTRLKEY', 'EVENT_FLAG_LBUTTON', 'EVENT_FLAG_MBUTTON', 'EVENT_FLAG_RBUTTON', 'EVENT_FLAG_SHIFTKEY', 'EVENT_LBUTTONDBLCLK', 'EVENT_LBUTTONDOWN', 'EVENT_LBUTTONUP', 'EVENT_MBUTTONDBLCLK', 'EVENT_MBUTTONDOWN', 'EVENT_MBUTTONUP', 'EVENT_MOUSEHWHEEL', 'EVENT_MOUSEMOVE', 'EVENT_MOUSEWHEEL', 'EVENT_RBUTTONDBLCLK', 'EVENT_RBUTTONDOWN', 'EVENT_RBUTTONUP']\n"
     ]
    }
   ],
   "source": [
    "import cv2\n",
    "events = [i for i in dir(cv2) if 'EVENT' in i]\n",
    "print( events )"
   ]
  },
  {
   "cell_type": "code",
   "execution_count": 45,
   "metadata": {},
   "outputs": [],
   "source": [
    "### 鼠标左键双击画圆\n",
    "import numpy as np\n",
    "import cv2\n",
    "\n",
    "\n",
    "# 鼠标左键画蓝色的圆\n",
    "def draw_circle(event, x, y, flags, param):\n",
    "    if event == cv2.EVENT_LBUTTONDBLCLK:\n",
    "        cv2.circle(img, (x, y), 100, (255, 0, 0), -1)\n",
    "\n",
    "\n",
    "# 创建一个黑色的图像\n",
    "img = np.zeros((512, 512, 3), np.uint8)\n",
    "cv2.namedWindow('image')\n",
    "\n",
    "# 设置鼠标的回调函数\n",
    "cv2.setMouseCallback('image', draw_circle)\n",
    "\n",
    "# 按 ESC 键退出\n",
    "while (1):\n",
    "    cv2.imshow('image', img)\n",
    "    if cv2.waitKey(20) & 0xFF == 27:\n",
    "        break\n",
    "    \n",
    "cv2.destroyAllWindows()\n"
   ]
  },
  {
   "cell_type": "code",
   "execution_count": 46,
   "metadata": {},
   "outputs": [],
   "source": [
    "# 画矩形和画圆，可以通过 m 切换模式\n",
    "import numpy as np\n",
    "import cv2\n",
    "\n",
    "# 如果鼠标按下为 True\n",
    "drawing = False \n",
    "\n",
    "# 模式选择，如果为 True画矩形，否则画圆\n",
    "mode = True  \n",
    "\n",
    "ix,iy = -1,-1\n",
    "\n",
    "rectLineThinkness = 5\n",
    "\n",
    "# 鼠标的回调函数\n",
    "def draw_circle(event,x,y,flags,param):\n",
    "    global ix,iy,drawing,mode\n",
    "    if event == cv2.EVENT_LBUTTONDOWN:\n",
    "        drawing = True\n",
    "        ix,iy = x,y\n",
    "    elif event == cv2.EVENT_MOUSEMOVE:\n",
    "        if drawing == True:\n",
    "            if mode == True:\n",
    "                cv2.rectangle(img, (ix, iy), (x, y),\n",
    "                            (0, 255, 0), rectLineThinkness)\n",
    "            else:\n",
    "                cv2.circle(img,(x,y),5,(0,0,255),-1)\n",
    "    elif event == cv2.EVENT_LBUTTONUP:\n",
    "        drawing = False\n",
    "        if mode == True:\n",
    "            cv2.rectangle(img,(ix,iy),(x,y),(0,255,0), rectLineThinkness)\n",
    "        else:\n",
    "            cv2.circle(img,(x,y),5,(0,0,255),-1)\n",
    "\n",
    "\n",
    "img = np.zeros((512, 512, 3), np.uint8)\n",
    "cv2.namedWindow('image')\n",
    "cv2.setMouseCallback('image', draw_circle)\n",
    "while (1):\n",
    "    cv2.imshow('image', img)\n",
    "    k = cv2.waitKey(1) & 0xFF\n",
    "    if k == ord('m'):\n",
    "        mode = not mode\n",
    "    elif k == 27:\n",
    "        break\n",
    "cv2.destroyAllWindows()\n"
   ]
  },
  {
   "cell_type": "code",
   "execution_count": 56,
   "metadata": {},
   "outputs": [],
   "source": [
    "# 画矩形，不重复\n",
    "\n",
    "import numpy as np\n",
    "import cv2\n",
    "\n",
    "imgsrc = np.zeros((512, 512, 3), np.uint8)\n",
    "cv2.namedWindow('image')\n",
    "\n",
    "# 开始点和结束点\n",
    "startPT = (-1, -1)\n",
    "endPT = (-1, -1)\n",
    "rectLineThinkness = 5\n",
    "drawing = False\n",
    "\n",
    "# 鼠标回调函数，画矩形\n",
    "def draw_rect(event, x, y, flags, param):\n",
    "    global startPT, endPT, drawing\n",
    "    mouseMat = param.copy()\n",
    "    if event == cv2.EVENT_LBUTTONDOWN:\n",
    "        drawing = True\n",
    "        startPT = (x, y)\n",
    "    elif event == cv2.EVENT_MOUSEMOVE:\n",
    "        if drawing:\n",
    "            endPT = (x, y)            \n",
    "            cv2.rectangle(mouseMat, startPT, endPT,\n",
    "                        (0, 255, 0), rectLineThinkness)        \n",
    "    elif event == cv2.EVENT_LBUTTONUP:\n",
    "        endPT = (x, y)\n",
    "        drawing = False\n",
    "    \n",
    "    cv2.rectangle(mouseMat, startPT, endPT, (0, 255, 0), rectLineThinkness)\n",
    "    cv2.imshow('image', mouseMat)\n",
    "\n",
    "cv2.setMouseCallback('image', draw_rect, imgsrc)\n",
    "cv2.imshow('image', imgsrc)\n",
    "cv2.waitKey(0)\n",
    "cv2.destroyAllWindows()\n"
   ]
  },
  {
   "cell_type": "code",
   "execution_count": 47,
   "metadata": {},
   "outputs": [
    {
     "name": "stdout",
     "output_type": "stream",
     "text": [
      "x = 137, y = 83\n",
      "x = 50, y = 102\n",
      "x = 104, y = 182\n",
      "x = 184, y = 147\n"
     ]
    }
   ],
   "source": [
    "import cv2\n",
    "import numpy as np\n",
    "\n",
    "WIN_NAME = 'pick_points'\n",
    "\n",
    "\n",
    "def onmouse_pick_points(event, x, y, flags, param):\n",
    "    if event == cv2.EVENT_LBUTTONDOWN:\n",
    "        print('x = %d, y = %d' % (x, y))\n",
    "        cv2.drawMarker(param, (x, y), (0, 255, 0))\n",
    "\n",
    "\n",
    "if __name__ == '__main__':\n",
    "    image = np.zeros((256, 256, 3), np.uint8)\n",
    "    cv2.namedWindow(WIN_NAME, 0)\n",
    "    cv2.setMouseCallback(WIN_NAME, onmouse_pick_points, image)\n",
    "    while True:\n",
    "        cv2.imshow(WIN_NAME, image)\n",
    "        key = cv2.waitKey(30)\n",
    "        if key == 27:  # ESC\n",
    "            break\n",
    "    cv2.destroyAllWindows()\n"
   ]
  }
 ],
 "metadata": {
  "kernelspec": {
   "display_name": "Python 3.9.12 ('base')",
   "language": "python",
   "name": "python3"
  },
  "language_info": {
   "codemirror_mode": {
    "name": "ipython",
    "version": 3
   },
   "file_extension": ".py",
   "mimetype": "text/x-python",
   "name": "python",
   "nbconvert_exporter": "python",
   "pygments_lexer": "ipython3",
   "version": "3.9.12"
  },
  "orig_nbformat": 4,
  "vscode": {
   "interpreter": {
    "hash": "21a5c39365767a2fa524ef69c1af2974b54020195af1241f50c0914f2616b7f9"
   }
  }
 },
 "nbformat": 4,
 "nbformat_minor": 2
}

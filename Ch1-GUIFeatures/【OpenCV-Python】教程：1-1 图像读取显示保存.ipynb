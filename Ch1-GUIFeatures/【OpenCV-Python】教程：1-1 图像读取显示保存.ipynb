{
 "cells": [
  {
   "cell_type": "code",
   "execution_count": null,
   "metadata": {},
   "outputs": [],
   "source": [
    "# https://docs.opencv.org/4.5.5/db/deb/tutorial_display_image.html\n",
    "\n",
    "## 导入库\n",
    "import cv2\n",
    "import sys\n",
    "\n",
    "## 读入图片\n",
    "img = cv2.imread(\"lena.jpg\", cv2.IMREAD_GRAYSCALE)\n",
    "\n",
    "## 读入失败退出\n",
    "if img is None:\n",
    "    sys.exit(\"Could not read the image.\")\n",
    "    \n",
    "\n",
    "cv2.namedWindow(\"lena\", cv2.WINDOW_AUTOSIZE)\n",
    "\n",
    "\n",
    "## 显示图片\n",
    "cv2.imshow(\"lena\", img)\n",
    "k = cv2.waitKey(0)\n",
    "\n",
    "## 等待按键，如果是 s 则退出\n",
    "if k == ord(\"s\"):\n",
    "    cv2.imwrite(\"lena-back.jpg\", img)\n",
    "\n",
    "## 销毁所有窗口\n",
    "cv2.destroyAllWindows()"
   ]
  }
 ],
 "metadata": {
  "kernelspec": {
   "display_name": "Python 3.8.13 ('pytorch')",
   "language": "python",
   "name": "python3"
  },
  "language_info": {
   "codemirror_mode": {
    "name": "ipython",
    "version": 3
   },
   "file_extension": ".py",
   "mimetype": "text/x-python",
   "name": "python",
   "nbconvert_exporter": "python",
   "pygments_lexer": "ipython3",
   "version": "3.8.13"
  },
  "orig_nbformat": 4,
  "vscode": {
   "interpreter": {
    "hash": "719f98299ccca36a884f9d141671719e20aaacc8082e234f139e455a4a5b836e"
   }
  }
 },
 "nbformat": 4,
 "nbformat_minor": 2
}

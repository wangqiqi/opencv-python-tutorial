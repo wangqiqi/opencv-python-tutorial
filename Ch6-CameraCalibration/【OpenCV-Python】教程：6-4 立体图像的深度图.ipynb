{
 "cells": [
  {
   "cell_type": "code",
   "execution_count": 14,
   "metadata": {},
   "outputs": [],
   "source": [
    "import numpy as np \n",
    "import cv2 \n",
    "\n",
    "imgL = cv2.imread(\"assets/tsukuba_l.png\", 0)\n",
    "imgR = cv2.imread(\"assets/tsukuba_r.png\", 0)\n",
    "\n",
    "stereo = cv2.StereoBM_create(numDisparities=16, blockSize=15)\n",
    "disparity = stereo.compute(imgL, imgR)\n",
    "disparity = np.uint8(disparity)\n",
    "\n",
    "cv2.imshow(\"L\", imgL)\n",
    "cv2.imshow(\"R\", imgR)\n",
    "cv2.imshow(\"depth\", disparity)\n",
    "cv2.waitKey(0)\n",
    "cv2.destroyAllWindows()\n",
    "\n",
    "\n",
    "# import numpy as np\n",
    "# import cv2\n",
    "# from matplotlib import pyplot as plt\n",
    "# imgL = cv2.imread('assets/tsukuba_l.png',0)\n",
    "# imgR = cv2.imread('assets/tsukuba_r.png',0)\n",
    "# stereo = cv2.StereoBM_create(numDisparities=16, blockSize=15)\n",
    "# disparity = stereo.compute(imgL,imgR)\n",
    "# # plt.imshow(disparity,'gray')\n",
    "# # plt.show()\n",
    "\n",
    "# cv2.imshow(\"depth\", disparity)\n",
    "# cv2.waitKey(0)\n",
    "# cv2.destroyAllWindows()\n"
   ]
  }
 ],
 "metadata": {
  "kernelspec": {
   "display_name": "pytorch",
   "language": "python",
   "name": "python3"
  },
  "language_info": {
   "codemirror_mode": {
    "name": "ipython",
    "version": 3
   },
   "file_extension": ".py",
   "mimetype": "text/x-python",
   "name": "python",
   "nbconvert_exporter": "python",
   "pygments_lexer": "ipython3",
   "version": "3.8.13"
  },
  "orig_nbformat": 4,
  "vscode": {
   "interpreter": {
    "hash": "719f98299ccca36a884f9d141671719e20aaacc8082e234f139e455a4a5b836e"
   }
  }
 },
 "nbformat": 4,
 "nbformat_minor": 2
}

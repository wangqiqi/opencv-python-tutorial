{
 "cells": [
  {
   "cell_type": "code",
   "execution_count": 1,
   "metadata": {},
   "outputs": [
    {
     "name": "stdout",
     "output_type": "stream",
     "text": [
      "camera matrix: [[534.07088364   0.         341.53407554]\n",
      " [  0.         534.11914595 232.94565259]\n",
      " [  0.           0.           1.        ]]\n",
      "distortion [[-2.92971637e-01  1.07706962e-01  1.31038376e-03 -3.11018780e-05\n",
      "   4.34798110e-02]]\n",
      "total error: 0.023686000375385676\n"
     ]
    }
   ],
   "source": [
    "import numpy as np \n",
    "import cv2 \n",
    "import glob\n",
    "\n",
    "criteria = (cv2.TERM_CRITERIA_EPS+cv2.TERM_CRITERIA_MAX_ITER, 30, 0.001)\n",
    "\n",
    "objp = np.zeros((6*7,3), np.float32)\n",
    "objp[:,:2] = np.mgrid[0:7,0:6].T.reshape(-1, 2)\n",
    "\n",
    "objpoints = []\n",
    "imgpoints = []\n",
    "\n",
    "images_name_list = glob.glob(\"assets/left/left*.jpg\")\n",
    "\n",
    "for im_name in images_name_list:\n",
    "    # print(im_name)\n",
    "    img = cv2.imread(im_name) \n",
    "    gray = cv2.cvtColor(img, cv2.COLOR_BGR2GRAY)\n",
    "    \n",
    "    ret, corners = cv2.findChessboardCorners(gray, (7,6), None)\n",
    "    \n",
    "    if ret == True:\n",
    "        objpoints.append(objp)\n",
    "        \n",
    "        corners2 = cv2.cornerSubPix(gray, corners, (11,11), (-1, -1), criteria)\n",
    "        imgpoints.append(corners)\n",
    "        \n",
    "        cv2.drawChessboardCorners(img, (7,6), corners2, ret)\n",
    "        cv2.imshow(\"image\", img)\n",
    "        cv2.waitKey(100)\n",
    "\n",
    "\n",
    "############ 相机标定\n",
    "# 3D点和图像点\n",
    "# cv2.calibrateCamera 相机标定\n",
    "# 返回 camera matrix, distortion coefficients, rotation and translation vectors etc.\n",
    "ret, mtx, dist, rvecs, tvecs = cv2.calibrateCamera(objpoints, imgpoints, gray.shape[::-1], None, None)\n",
    "\n",
    "print(\"camera matrix:\", mtx)\n",
    "print(\"distortion\", dist)\n",
    "\n",
    "############## 保存参数\n",
    "np.savez(\"left.npz\", mtx=mtx, dist=dist,rvecs=rvecs,tvecs=tvecs )\n",
    "\n",
    "\n",
    "############# 去失真\n",
    "## OpenCV 有两种方法，\n",
    "## 我们可以使用cv2.getOptimalNewCameraMatrix()基于自由缩放参数来细化相机矩阵。\n",
    "## 如果缩放参数alpha=0，它将返回未扭曲的图像，其中包含最少的不需要像素。因此，它甚至可以删除图像角落的一些像素。\n",
    "## 如果alpha=1，所有像素都保留一些额外的黑色图像。此函数还返回一个图像ROI，可用于裁剪结果。\n",
    "imgtest = cv2.imread(\"assets/left/left12.jpg\")\n",
    "h, w = imgtest.shape[0:2]\n",
    "newcameramtx, roi = cv2.getOptimalNewCameraMatrix(mtx, dist, (w, h), 1, (w, h))\n",
    "\n",
    "cv2.imshow(\"left12\", imgtest)\n",
    "\n",
    "#### 方法一： cv2.undistort()，方法一的效率更高一些\n",
    "# undistort\n",
    "dst = cv2.undistort(imgtest, mtx, dist, None, newcameramtx)\n",
    "\n",
    "# crop image\n",
    "x, y, w, h = roi \n",
    "dst = dst[y:y+h, x:x+w]\n",
    "\n",
    "cv2.imshow(\"left12-undistort\", dst)\n",
    "#### 方法二： using remapping\n",
    "# undistort\n",
    "mapx, mapy = cv2.initUndistortRectifyMap(mtx, dist, None, newcameramtx, (w,h), 5)\n",
    "dst2 = cv2.remap(imgtest, mapx, mapy, cv2.INTER_LINEAR)\n",
    "\n",
    "# crop the image\n",
    "x, y, w, h = roi\n",
    "dst2 = dst[y:y+h, x:x+w]\n",
    "cv2.imshow(\"left12-remapping\", dst)\n",
    "\n",
    "cv2.waitKey(0)\n",
    "cv2.destroyAllWindows()\n",
    "\n",
    "# 反向投影计算误差\n",
    "# print(objpoints)\n",
    "mean_error = 0\n",
    "for i in range(len(objpoints)):\n",
    "    imgpoints2, _ = cv2.projectPoints(objpoints[i], rvecs[i], tvecs[i], mtx, dist)\n",
    "    error = cv2.norm(imgpoints[i], imgpoints2, cv2.NORM_L2)/len(imgpoints2)\n",
    "    mean_error += error\n",
    "print( \"total error: {}\".format(mean_error/len(objpoints)) )\n"
   ]
  },
  {
   "cell_type": "code",
   "execution_count": 4,
   "metadata": {},
   "outputs": [
    {
     "data": {
      "text/plain": [
       "['dist', 'mtx', 'rvecs', 'tvecs']"
      ]
     },
     "execution_count": 4,
     "metadata": {},
     "output_type": "execute_result"
    }
   ],
   "source": [
    "npzfile = np.load(\"left.npz\")\n",
    "sorted(npzfile.files)\n"
   ]
  }
 ],
 "metadata": {
  "kernelspec": {
   "display_name": "pytorch",
   "language": "python",
   "name": "python3"
  },
  "language_info": {
   "codemirror_mode": {
    "name": "ipython",
    "version": 3
   },
   "file_extension": ".py",
   "mimetype": "text/x-python",
   "name": "python",
   "nbconvert_exporter": "python",
   "pygments_lexer": "ipython3",
   "version": "3.8.13 | packaged by conda-forge | (default, Mar 25 2022, 05:59:00) [MSC v.1929 64 bit (AMD64)]"
  },
  "orig_nbformat": 4,
  "vscode": {
   "interpreter": {
    "hash": "719f98299ccca36a884f9d141671719e20aaacc8082e234f139e455a4a5b836e"
   }
  }
 },
 "nbformat": 4,
 "nbformat_minor": 2
}

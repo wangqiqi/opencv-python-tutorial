{
 "cells": [
  {
   "cell_type": "code",
   "execution_count": 6,
   "metadata": {},
   "outputs": [
    {
     "data": {
      "text/plain": [
       "True"
      ]
     },
     "execution_count": 6,
     "metadata": {},
     "output_type": "execute_result"
    }
   ],
   "source": [
    "# 将图像切分保存下来\n",
    "\n",
    "import numpy as np \n",
    "import cv2 \n",
    "\n",
    "# h = 480, \n",
    "# w = 640\n",
    "imgall = cv2.imread(\"assets/exposures.jpg\")\n",
    "\n",
    "IM_H = 240\n",
    "IM_W = 320\n",
    "\n",
    "img1 = imgall[0:IM_H, 0:IM_W]\n",
    "img2 = imgall[0:IM_H, IM_W::]\n",
    "img3 = imgall[IM_H::, 0:IM_W]\n",
    "img4 = imgall[IM_H::, IM_W::]\n",
    "\n",
    "cv2.imshow(\"src\", imgall)\n",
    "cv2.imshow(\"img1\", img1)\n",
    "cv2.imshow(\"img2\", img2)\n",
    "cv2.imshow(\"img3\", img3)\n",
    "cv2.imshow(\"img4\", img4)\n",
    "\n",
    "cv2.waitKey(0)\n",
    "cv2.destroyAllWindows()\n",
    "\n",
    "cv2.imwrite(\"img0.jpg\", img1)\n",
    "cv2.imwrite(\"img1.jpg\", img2)\n",
    "cv2.imwrite(\"img2.jpg\", img3)\n",
    "cv2.imwrite(\"img3.jpg\", img4)"
   ]
  },
  {
   "cell_type": "code",
   "execution_count": 8,
   "metadata": {},
   "outputs": [],
   "source": [
    "import numpy as np \n",
    "import cv2 \n",
    "\n",
    "# 1. Loading exposure images into a list\n",
    "img_fn = [\"assets/img0.jpg\", \"assets/img1.jpg\", \"assets/img2.jpg\", \"assets/img3.jpg\"]\n",
    "img_list = [cv2.imread(fn) for fn in img_fn]\n",
    "\n",
    "# 曝光时间\n",
    "exposure_times = np.array([15.0, 2.5, 0.25, 0.0333], dtype=np.float32)\n",
    "\n",
    "\n",
    "# 2. Merge exposures into HDR image\n",
    "merge_debevec = cv2.createMergeDebevec()\n",
    "hdr_debevec = merge_debevec.process(img_list, times=exposure_times.copy())\n",
    "merge_robertson = cv2.createMergeRobertson()\n",
    "hdr_robertson = merge_robertson.process(img_list, times=exposure_times.copy())\n",
    "\n",
    "# 3. Tonemap HDR image\n",
    "tonemap1 = cv2.createTonemap(gamma=2.2)\n",
    "res_debevec = tonemap1.process(hdr_debevec.copy())\n",
    "res_robertson = tonemap1.process(hdr_robertson.copy())\n",
    "\n",
    "# 4. Merge exposures using Mertens fusion\n",
    "merge_mertens = cv2.createMergeMertens()\n",
    "res_mertens = merge_mertens.process(img_list)\n",
    "\n",
    "# 5. Convert to 8-bit and save\n",
    "res_debevec_8bit = np.clip(res_debevec*255, 0, 255).astype('uint8')\n",
    "res_robertson_8bit = np.clip(res_robertson*255, 0, 255).astype('uint8')\n",
    "res_mertens_8bit = np.clip(res_mertens*255, 0, 255).astype('uint8')\n",
    "\n",
    "cv2.imshow(\"ldr_debevec.jpg\", res_debevec_8bit)\n",
    "cv2.imshow(\"ldr_robertson.jpg\", res_robertson_8bit)\n",
    "cv2.imshow(\"fusion_mertens.jpg\", res_mertens_8bit)\n",
    "\n",
    "cv2.waitKey(0)\n",
    "cv2.destroyAllWindows()\n"
   ]
  }
 ],
 "metadata": {
  "kernelspec": {
   "display_name": "base",
   "language": "python",
   "name": "python3"
  },
  "language_info": {
   "codemirror_mode": {
    "name": "ipython",
    "version": 3
   },
   "file_extension": ".py",
   "mimetype": "text/x-python",
   "name": "python",
   "nbconvert_exporter": "python",
   "pygments_lexer": "ipython3",
   "version": "3.9.12"
  },
  "orig_nbformat": 4,
  "vscode": {
   "interpreter": {
    "hash": "21a5c39365767a2fa524ef69c1af2974b54020195af1241f50c0914f2616b7f9"
   }
  }
 },
 "nbformat": 4,
 "nbformat_minor": 2
}

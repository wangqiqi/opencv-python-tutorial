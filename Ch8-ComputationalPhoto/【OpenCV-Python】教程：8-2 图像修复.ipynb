{
 "cells": [
  {
   "cell_type": "code",
   "execution_count": 1,
   "metadata": {},
   "outputs": [],
   "source": [
    "import numpy as np \n",
    "import cv2 \n",
    "\n",
    "img = cv2.imread(\"assets/messi2.jpg\")\n",
    "mask = cv2.imread(\"assets/messi2_mask.jpg\", 0)\n",
    "\n",
    "dst1 = cv2.inpaint(img, mask, 3, cv2.INPAINT_TELEA)\n",
    "dst2 = cv2.inpaint(img, mask, 3, cv2.INPAINT_NS)\n",
    "\n",
    "cv2.imshow(\"src\", img)\n",
    "cv2.imshow(\"mask\", mask)\n",
    "cv2.imshow(\"dst_TELEA\", dst1)\n",
    "cv2.imshow(\"dst_NS\", dst2)\n",
    "\n",
    "cv2.waitKey(0)\n",
    "cv2.destroyAllWindows()\n"
   ]
  }
 ],
 "metadata": {
  "kernelspec": {
   "display_name": "base",
   "language": "python",
   "name": "python3"
  },
  "language_info": {
   "codemirror_mode": {
    "name": "ipython",
    "version": 3
   },
   "file_extension": ".py",
   "mimetype": "text/x-python",
   "name": "python",
   "nbconvert_exporter": "python",
   "pygments_lexer": "ipython3",
   "version": "3.9.12"
  },
  "orig_nbformat": 4,
  "vscode": {
   "interpreter": {
    "hash": "21a5c39365767a2fa524ef69c1af2974b54020195af1241f50c0914f2616b7f9"
   }
  }
 },
 "nbformat": 4,
 "nbformat_minor": 2
}

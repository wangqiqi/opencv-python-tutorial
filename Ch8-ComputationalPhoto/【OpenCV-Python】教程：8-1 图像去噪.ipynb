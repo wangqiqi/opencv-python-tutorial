{
 "cells": [
  {
   "cell_type": "code",
   "execution_count": 3,
   "metadata": {},
   "outputs": [],
   "source": [
    "import numpy as np \n",
    "import cv2 \n",
    "from matplotlib import pyplot as plt \n",
    "\n",
    "img = cv2.imread(\"assets/die.png\")\n",
    "\n",
    "dst = cv2.fastNlMeansDenoisingColored(img, None, 10, 10, 7, 21)\n",
    "\n",
    "cv2.imshow(\"src image\", img)\n",
    "cv2.imshow(\"denoised image\", dst)\n",
    "\n",
    "cv2.waitKey(0)\n",
    "cv2.destroyAllWindows()\n"
   ]
  },
  {
   "cell_type": "code",
   "execution_count": 5,
   "metadata": {},
   "outputs": [],
   "source": [
    "import numpy as np \n",
    "import cv2 \n",
    "from matplotlib import pyplot as plt \n",
    "\n",
    "cap = cv2.VideoCapture(\"assets/vtest.avi\")\n",
    "\n",
    "# 连续读入帧\n",
    "img = [cap.read()[1] for i in range(5)]\n",
    "\n",
    "# 转换灰度\n",
    "gray = [cv2.cvtColor(i, cv2.COLOR_BGR2GRAY) for i in img]\n",
    "gray = [np.float64(i) for i in gray]\n",
    "noise = np.random.randn(*gray[1].shape)*10\n",
    "\n",
    "# 添加噪声到图像中\n",
    "noisy = [i+noise for i in gray]\n",
    "\n",
    "# 转换为 uint8\n",
    "noisy = [np.uint8(np.clip(i, 0, 255)) for i in noisy]\n",
    "\n",
    "gray_back = [np.uint8(np.clip(i, 0, 255)) for i in gray]\n",
    "\n",
    "# 参考连续5帧为第3帧降噪\n",
    "dst = cv2.fastNlMeansDenoisingMulti(noisy, 2, 5, None, 4, 7, 35)\n",
    "\n",
    "cv2.imshow(\"gray\", gray_back[2])\n",
    "cv2.imshow(\"noisy\", noisy[2])\n",
    "cv2.imshow(\"dst\", dst)\n",
    "\n",
    "cv2.waitKey(0)\n",
    "cv2.destroyAllWindows()"
   ]
  }
 ],
 "metadata": {
  "kernelspec": {
   "display_name": "base",
   "language": "python",
   "name": "python3"
  },
  "language_info": {
   "codemirror_mode": {
    "name": "ipython",
    "version": 3
   },
   "file_extension": ".py",
   "mimetype": "text/x-python",
   "name": "python",
   "nbconvert_exporter": "python",
   "pygments_lexer": "ipython3",
   "version": "3.9.12"
  },
  "orig_nbformat": 4,
  "vscode": {
   "interpreter": {
    "hash": "21a5c39365767a2fa524ef69c1af2974b54020195af1241f50c0914f2616b7f9"
   }
  }
 },
 "nbformat": 4,
 "nbformat_minor": 2
}

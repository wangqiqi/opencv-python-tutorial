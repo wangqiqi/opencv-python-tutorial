{
 "cells": [
  {
   "cell_type": "code",
   "execution_count": 1,
   "metadata": {},
   "outputs": [
    {
     "name": "stdout",
     "output_type": "stream",
     "text": [
      "91.76\n"
     ]
    }
   ],
   "source": [
    "import numpy as np \n",
    "import cv2 \n",
    "\n",
    "# 这个大的图像是由很多小图像组成的，\n",
    "img  = cv2.imread(\"assets/digits.png\")\n",
    "gray = cv2.cvtColor(img, cv2.COLOR_BGR2GRAY)\n",
    "\n",
    "# 将图像分割成5000个小单元，每个小单元的尺寸是 20*20\n",
    "ceils = [np.hsplit(row,100) for row in np.vsplit(gray, 50)]\n",
    "\n",
    "# 变成一个 numpy 的数组，大小为 (50,100, 20,20)\n",
    "x = np.array(ceils)\n",
    "\n",
    "# 准备训练数据和测试数据\n",
    "train = x[:,:50].reshape(-1,400).astype(np.float32) # 大小为 (2500, 400)\n",
    "test = x[:,50:100].reshape(-1,400).astype(np.float32) # 大小为 (2500, 400)\n",
    "\n",
    "# 创建标签\n",
    "k = np.arange(10)\n",
    "train_labels = np.repeat(k, 250)[:,np.newaxis] # 大小为 (2500, 10)\n",
    "test_labels = train_labels.copy()\n",
    "\n",
    "# 初始化 kNN 训练器和测试；\n",
    "knn = cv2.ml.KNearest_create()\n",
    "knn.train(train, cv2.ml.ROW_SAMPLE, train_labels)\n",
    "ret, result, neighbours, dist = knn.findNearest(test, k=5)\n",
    "\n",
    "# 检查正确率\n",
    "matches = result == test_labels\n",
    "correct = np.count_nonzero(matches)\n",
    "accuracy = correct * 100.0 / result.size\n",
    "print(accuracy)"
   ]
  },
  {
   "cell_type": "code",
   "execution_count": 2,
   "metadata": {},
   "outputs": [],
   "source": [
    "# 保存数据\n",
    "np.savez(\"knn_data.npz\", train=train, train_labels=train_labels)\n",
    "\n",
    "# 加载数据\n",
    "with np.load(\"knn_data.npz\") as data:\n",
    "    print(data.files)\n",
    "    train = data[\"train\"]\n",
    "    train_labels = data[\"train_labels\"]\n"
   ]
  }
 ],
 "metadata": {
  "kernelspec": {
   "display_name": "pytorch",
   "language": "python",
   "name": "python3"
  },
  "language_info": {
   "codemirror_mode": {
    "name": "ipython",
    "version": 3
   },
   "file_extension": ".py",
   "mimetype": "text/x-python",
   "name": "python",
   "nbconvert_exporter": "python",
   "pygments_lexer": "ipython3",
   "version": "3.8.13"
  },
  "orig_nbformat": 4,
  "vscode": {
   "interpreter": {
    "hash": "719f98299ccca36a884f9d141671719e20aaacc8082e234f139e455a4a5b836e"
   }
  }
 },
 "nbformat": 4,
 "nbformat_minor": 2
}

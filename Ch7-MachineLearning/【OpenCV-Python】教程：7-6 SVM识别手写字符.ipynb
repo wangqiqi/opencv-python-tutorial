{
 "cells": [
  {
   "cell_type": "code",
   "execution_count": 2,
   "metadata": {},
   "outputs": [
    {
     "name": "stdout",
     "output_type": "stream",
     "text": [
      "93.84\n"
     ]
    }
   ],
   "source": [
    "import cv2\n",
    "import numpy as np\n",
    "\n",
    "SZ = 20\n",
    "bin_n = 16  # Number of bins\n",
    "affine_flags = cv2.WARP_INVERSE_MAP | cv2.INTER_LINEAR\n",
    "\n",
    "# 抗扭斜，主要是将图像进行少量的几何变换，减少因变形产生的影响\n",
    "def deskew(img):\n",
    "    m = cv2.moments(img)\n",
    "    if abs(m['mu02']) < 1e-2:\n",
    "        return img.copy()\n",
    "    skew = m['mu11']/m['mu02']\n",
    "    M = np.float32([[1, skew, -0.5*SZ*skew], [0, 1, 0]])\n",
    "    img = cv2.warpAffine(img, M, (SZ, SZ), flags=affine_flags)\n",
    "    return img\n",
    "\n",
    "# HOG 特征\n",
    "def hog(img):\n",
    "    gx = cv2.Sobel(img, cv2.CV_32F, 1, 0)\n",
    "    gy = cv2.Sobel(img, cv2.CV_32F, 0, 1)\n",
    "    mag, ang = cv2.cartToPolar(gx, gy)\n",
    "    bins = np.int32(bin_n*ang/(2*np.pi))    # quantizing binvalues in (0...16)\n",
    "    bin_cells = bins[:10, :10], bins[10:, :10], bins[:10, 10:], bins[10:, 10:]\n",
    "    mag_cells = mag[:10, :10], mag[10:, :10], mag[:10, 10:], mag[10:, 10:]\n",
    "    hists = [np.bincount(b.ravel(), m.ravel(), bin_n)\n",
    "            for b, m in zip(bin_cells, mag_cells)]\n",
    "    hist = np.hstack(hists)     # hist is a 64 bit vector\n",
    "    return hist\n",
    "\n",
    "# 读入图片\n",
    "img = cv2.imread(cv2.samples.findFile('assets/digits.png'), 0)\n",
    "if img is None:\n",
    "    raise Exception(\"we need the digits.png image from samples/data here !\")\n",
    "cells = [np.hsplit(row, 100) for row in np.vsplit(img, 50)]\n",
    "# First half is trainData, remaining is testData\n",
    "train_cells = [i[:50] for i in cells]\n",
    "test_cells = [i[50:] for i in cells]\n",
    "\n",
    "# 图像校正\n",
    "deskewed = [list(map(deskew, row)) for row in train_cells]\n",
    "\n",
    "# 提取特征\n",
    "hogdata = [list(map(hog, row)) for row in deskewed]\n",
    "\n",
    "# 训练数据\n",
    "trainData = np.float32(hogdata).reshape(-1, 64)\n",
    "responses = np.repeat(np.arange(10), 250)[:, np.newaxis]\n",
    "\n",
    "# 创建分类器和设置参数\n",
    "svm = cv2.ml.SVM_create()\n",
    "svm.setKernel(cv2.ml.SVM_LINEAR)\n",
    "svm.setType(cv2.ml.SVM_C_SVC)\n",
    "svm.setC(2.67)\n",
    "svm.setGamma(5.383)\n",
    "\n",
    "# 训练\n",
    "svm.train(trainData, cv2.ml.ROW_SAMPLE, responses)\n",
    "\n",
    "# 保存参数\n",
    "svm.save('svm_data.dat')\n",
    "\n",
    "# 测试\n",
    "deskewed = [list(map(deskew, row)) for row in test_cells]\n",
    "hogdata = [list(map(hog, row)) for row in deskewed]\n",
    "testData = np.float32(hogdata).reshape(-1, bin_n*4)\n",
    "\n",
    "result = svm.predict(testData)[1]\n",
    "mask = result == responses\n",
    "correct = np.count_nonzero(mask)\n",
    "print(correct*100.0/result.size)\n"
   ]
  }
 ],
 "metadata": {
  "kernelspec": {
   "display_name": "base",
   "language": "python",
   "name": "python3"
  },
  "language_info": {
   "codemirror_mode": {
    "name": "ipython",
    "version": 3
   },
   "file_extension": ".py",
   "mimetype": "text/x-python",
   "name": "python",
   "nbconvert_exporter": "python",
   "pygments_lexer": "ipython3",
   "version": "3.9.12"
  },
  "orig_nbformat": 4,
  "vscode": {
   "interpreter": {
    "hash": "21a5c39365767a2fa524ef69c1af2974b54020195af1241f50c0914f2616b7f9"
   }
  }
 },
 "nbformat": 4,
 "nbformat_minor": 2
}

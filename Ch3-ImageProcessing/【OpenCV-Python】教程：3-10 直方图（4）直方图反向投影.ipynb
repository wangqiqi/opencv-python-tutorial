{
 "cells": [
  {
   "cell_type": "code",
   "execution_count": 16,
   "metadata": {},
   "outputs": [],
   "source": [
    "import numpy as np \n",
    "import cv2 \n",
    "\n",
    "img = cv2.imread(\"assets/messi5.jpg\")\n",
    "hsv = cv2.cvtColor(img, cv2.COLOR_BGR2HSV)\n",
    "\n",
    "ground_patch = cv2.imread(\"assets/messi_ground.png\")\n",
    "ground_hsv = cv2.cvtColor(ground_patch, cv2.COLOR_BGR2HSV)\n",
    "\n",
    "# 计算目标的直方图\n",
    "ground_hist = cv2.calcHist([ground_hsv], [0, 1], None, [180, 256], [0, 180, 0, 256])\n",
    "\n",
    "# 归一化\n",
    "cv2.normalize(ground_hist, ground_hist, 0, 255, cv2.NORM_MINMAX)\n",
    "\n",
    "# 反向投影\n",
    "dst = cv2.calcBackProject([hsv], [0, 1], ground_hist, [0, 180, 0, 256], 4)\n",
    "\n",
    "cv2.imshow(\"dst\", dst)\n",
    "\n",
    "# 对投影图像做一些处理\n",
    "ele = cv2.getStructuringElement(cv2.MORPH_ELLIPSE, (5, 5))\n",
    "cv2.filter2D(dst, -1, ele, dst)\n",
    "ret, thresh = cv2.threshold(dst, 50, 255, cv2.THRESH_BINARY)\n",
    "\n",
    "# threshcolor = cv2.merge((thresh, thresh, thresh))\n",
    "threshcolor = cv2.cvtColor(thresh, cv2.COLOR_GRAY2BGR)\n",
    "\n",
    "result = cv2.bitwise_and(threshcolor, img)\n",
    "result = np.hstack((img, threshcolor, result))\n",
    "\n",
    "cv2.imshow(\"result\", result)\n",
    "# cv2.imshow(\"src\", img)\n",
    "cv2.imshow(\"patch\", ground_patch)\n",
    "cv2.waitKey(0)\n",
    "cv2.destroyAllWindows()\n"
   ]
  }
 ],
 "metadata": {
  "kernelspec": {
   "display_name": "Python 3.9.12 ('base')",
   "language": "python",
   "name": "python3"
  },
  "language_info": {
   "codemirror_mode": {
    "name": "ipython",
    "version": 3
   },
   "file_extension": ".py",
   "mimetype": "text/x-python",
   "name": "python",
   "nbconvert_exporter": "python",
   "pygments_lexer": "ipython3",
   "version": "3.9.12"
  },
  "orig_nbformat": 4,
  "vscode": {
   "interpreter": {
    "hash": "21a5c39365767a2fa524ef69c1af2974b54020195af1241f50c0914f2616b7f9"
   }
  }
 },
 "nbformat": 4,
 "nbformat_minor": 2
}

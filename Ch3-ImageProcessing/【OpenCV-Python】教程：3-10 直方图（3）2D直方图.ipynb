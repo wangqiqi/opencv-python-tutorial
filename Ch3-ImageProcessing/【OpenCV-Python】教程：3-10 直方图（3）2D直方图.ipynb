{
 "cells": [
  {
   "cell_type": "code",
   "execution_count": 2,
   "metadata": {},
   "outputs": [],
   "source": [
    "import numpy as np\n",
    "import cv2\n",
    "from matplotlib import pyplot as plt \n",
    "#读取图片\n",
    "\n",
    "img = cv2.imread('assets/home.jpg')\n",
    "hsv = cv2.cvtColor(img, cv2.COLOR_BGR2HSV)\n",
    "\n",
    "hist = cv2.calcHist([hsv], [0, 1], None, [180, 256], [0, 180, 0, 256])\n",
    "\n",
    "cv2.normalize(hist, hist, 0, 255, cv2.NORM_MINMAX)\n",
    "\n",
    "cv2.imshow('img', img)\n",
    "cv2.imshow('hist', hist)\n",
    "cv2.waitKey(0)\n",
    "cv2.destroyAllWindows()\n"
   ]
  },
  {
   "cell_type": "code",
   "execution_count": 4,
   "metadata": {},
   "outputs": [
    {
     "data": {
      "image/png": "[encoded data removed]",
      "text/plain": [
       "<Figure size 640x480 with 1 Axes>"
      ]
     },
     "metadata": {},
     "output_type": "display_data"
    }
   ],
   "source": [
    "import numpy as np\n",
    "import cv2\n",
    "from matplotlib import pyplot as plt\n",
    "\n",
    "img = cv2.imread('assets/home.jpg')\n",
    "hsv = cv2.cvtColor(img, cv2.COLOR_BGR2HSV)\n",
    "h, s, v = cv2.split(hsv)\n",
    "hist, xbins, ybins = np.histogram2d(h.ravel(),s.ravel(),[180,256],[[0,180],[0,256]])\n",
    "\n",
    "plt.imshow(hist, interpolation='nearest')\n",
    "plt.show()"
   ]
  },
  {
   "cell_type": "code",
   "execution_count": 11,
   "metadata": {},
   "outputs": [
    {
     "name": "stdout",
     "output_type": "stream",
     "text": [
      "\n",
      "Video histogram sample to show live histogram of video\n",
      "\n",
      "Keys:\n",
      "    ESC    - exit\n",
      "\n",
      "\n",
      "Done\n"
     ]
    }
   ],
   "source": [
    "#!/usr/bin/env python\n",
    "\n",
    "'''\n",
    "Video histogram sample to show live histogram of video\n",
    "\n",
    "Keys:\n",
    "    ESC    - exit\n",
    "\n",
    "'''\n",
    "\n",
    "# Python 2/3 compatibility\n",
    "from __future__ import print_function\n",
    "\n",
    "import numpy as np\n",
    "import cv2\n",
    "\n",
    "# built-in modules\n",
    "import sys\n",
    "\n",
    "# # local modules\n",
    "# import video\n",
    "\n",
    "\n",
    "class App():\n",
    "\n",
    "    def set_scale(self, val):\n",
    "        self.hist_scale = val\n",
    "\n",
    "    def run(self):\n",
    "        hsv_map = np.zeros((180, 256, 3), np.uint8)\n",
    "        h, s = np.indices(hsv_map.shape[:2])\n",
    "        hsv_map[:, :, 0] = h\n",
    "        hsv_map[:, :, 1] = s\n",
    "        hsv_map[:, :, 2] = 255\n",
    "        hsv_map = cv2.cvtColor(hsv_map, cv2.COLOR_HSV2BGR)\n",
    "        cv2.imshow('hsv_map', hsv_map)\n",
    "\n",
    "        cv2.namedWindow('hist', 0)\n",
    "        self.hist_scale = 10\n",
    "\n",
    "        cv2.createTrackbar('scale', 'hist', self.hist_scale, 32, self.set_scale)\n",
    "\n",
    "        try:\n",
    "            fn = sys.argv[1]\n",
    "        except:\n",
    "            fn = 0\n",
    "        # cam = video.create_capture(\n",
    "        #     fn, fallback='synth:bg=baboon.jpg:class=chess:noise=0.05')\n",
    "\n",
    "        cam = cv2.VideoCapture(0)\n",
    "\n",
    "        while True:\n",
    "            _flag, frame = cam.read()\n",
    "            cv2.imshow('camera', frame)\n",
    "\n",
    "            small = cv2.pyrDown(frame)\n",
    "\n",
    "            hsv = cv2.cvtColor(small, cv2.COLOR_BGR2HSV)\n",
    "            dark = hsv[..., 2] < 32\n",
    "            hsv[dark] = 0\n",
    "            h = cv2.calcHist([hsv], [0, 1], None, [180, 256], [0, 180, 0, 256])\n",
    "\n",
    "            h = np.clip(h*0.005*self.hist_scale, 0, 1)\n",
    "            vis = hsv_map*h[:, :, np.newaxis] / 255.0\n",
    "            cv2.imshow('hist', vis)\n",
    "\n",
    "            ch = cv2.waitKey(1)\n",
    "            if ch == 27:\n",
    "                break\n",
    "\n",
    "        print('Done')\n",
    "\n",
    "\n",
    "if __name__ == '__main__':\n",
    "    print(__doc__)\n",
    "    App().run()\n",
    "    cv2.destroyAllWindows()\n"
   ]
  },
  {
   "cell_type": "code",
   "execution_count": 4,
   "metadata": {},
   "outputs": [
    {
     "name": "stdout",
     "output_type": "stream",
     "text": [
      "Done\n"
     ]
    }
   ],
   "source": [
    "import numpy as np\n",
    "import cv2\n",
    "import sys\n",
    "\n",
    "videoname = \"assets/testvideo.mp4\"\n",
    "\n",
    "class App():\n",
    "    def __init__(self, videoname=0):\n",
    "        self.videoname = videoname\n",
    "    \n",
    "    def set_scale(self, val):\n",
    "        self.hist_scale = val\n",
    "\n",
    "    def run(self):\n",
    "        hsv_map = np.zeros((180, 256, 3), np.uint8)\n",
    "        h, s = np.indices(hsv_map.shape[:2])\n",
    "        hsv_map[:, :, 0] = h\n",
    "        hsv_map[:, :, 1] = s\n",
    "        hsv_map[:, :, 2] = 255\n",
    "        hsv_map = cv2.cvtColor(hsv_map, cv2.COLOR_HSV2BGR)\n",
    "        cv2.imshow('hsv_map', hsv_map)\n",
    "\n",
    "        cv2.namedWindow('hist', 0)\n",
    "        self.hist_scale = 10\n",
    "\n",
    "        cv2.createTrackbar('scale', 'hist', self.hist_scale,\n",
    "                        32, self.set_scale)\n",
    "\n",
    "        cam = cv2.VideoCapture(self.videoname)\n",
    "\n",
    "        while True:\n",
    "            _flag, frame = cam.read()\n",
    "            \n",
    "            if frame is None:\n",
    "                break\n",
    "\n",
    "            small = cv2.pyrDown(frame)\n",
    "            cv2.imshow('video', frame)\n",
    "\n",
    "            hsv = cv2.cvtColor(small, cv2.COLOR_BGR2HSV)\n",
    "            dark = hsv[..., 2] < 32\n",
    "            hsv[dark] = 0\n",
    "            h = cv2.calcHist([hsv], [0, 1], None, [180, 256], [0, 180, 0, 256])\n",
    "\n",
    "            h = np.clip(h*0.005*self.hist_scale, 0, 1)\n",
    "            vis = hsv_map*h[:, :, np.newaxis] / 255.0\n",
    "            cv2.imshow('hist', vis)\n",
    "\n",
    "            ch = cv2.waitKey(15)\n",
    "            if ch == 27:\n",
    "                break\n",
    "\n",
    "        print('Done')\n",
    "        cv2.destroyAllWindows()\n",
    "\n",
    "\n",
    "if __name__ == '__main__':\n",
    "    \n",
    "    app = App(videoname=videoname)\n",
    "    app.run()\n"
   ]
  }
 ],
 "metadata": {
  "kernelspec": {
   "display_name": "Python 3.8.13 ('pytorch')",
   "language": "python",
   "name": "python3"
  },
  "language_info": {
   "codemirror_mode": {
    "name": "ipython",
    "version": 3
   },
   "file_extension": ".py",
   "mimetype": "text/x-python",
   "name": "python",
   "nbconvert_exporter": "python",
   "pygments_lexer": "ipython3",
   "version": "3.8.13"
  },
  "orig_nbformat": 4,
  "vscode": {
   "interpreter": {
    "hash": "719f98299ccca36a884f9d141671719e20aaacc8082e234f139e455a4a5b836e"
   }
  }
 },
 "nbformat": 4,
 "nbformat_minor": 2
}

{
 "cells": [
  {
   "cell_type": "code",
   "execution_count": 6,
   "metadata": {},
   "outputs": [],
   "source": [
    "import cv2\n",
    "import numpy as np\n",
    "\n",
    "\n",
    "img = cv2.imread('assets/hui2.png',0)\n",
    "\n",
    "kernel = np.ones((5,5),np.uint8)\n",
    "\n",
    "erosion = cv2.erode(img,kernel,iterations = 1)\n",
    "dilation = cv2.dilate(img,kernel,iterations = 1)\n",
    "opening = cv2.morphologyEx(img, cv2.MORPH_OPEN, kernel)\n",
    "closing = cv2.morphologyEx(img, cv2.MORPH_CLOSE, kernel)\n",
    "gradient = cv2.morphologyEx(img, cv2.MORPH_GRADIENT, kernel)\n",
    "\n",
    "\n",
    "cv2.imshow(\"src\", img)\n",
    "cv2.imshow(\"erosion\", erosion)\n",
    "cv2.imshow(\"dilation\", dilation)\n",
    "cv2.imshow(\"opening\", opening)\n",
    "cv2.imshow(\"closing\", closing)\n",
    "cv2.imshow(\"gradient\", gradient)\n",
    "\n",
    "\n",
    "cv2.waitKey(0)\n",
    "cv2.destroyAllWindows()"
   ]
  },
  {
   "cell_type": "code",
   "execution_count": 5,
   "metadata": {},
   "outputs": [],
   "source": [
    "tophat = cv2.morphologyEx(img, cv2.MORPH_TOPHAT, kernel)\n",
    "blackhat = cv2.morphologyEx(img, cv2.MORPH_BLACKHAT, kernel)\n",
    "\n",
    "cv2.imshow(\"tophat\", tophat)\n",
    "cv2.imshow(\"blackhat\", blackhat)\n",
    "\n",
    "cv2.waitKey(0)\n",
    "cv2.destroyAllWindows()\n"
   ]
  },
  {
   "cell_type": "code",
   "execution_count": 16,
   "metadata": {},
   "outputs": [
    {
     "name": "stdout",
     "output_type": "stream",
     "text": [
      "[[1 1 1 1 1]\n",
      " [1 1 1 1 1]\n",
      " [1 1 1 1 1]\n",
      " [1 1 1 1 1]\n",
      " [1 1 1 1 1]]\n"
     ]
    }
   ],
   "source": [
    "# Rectangular Kernel\n",
    "k1 = cv2.getStructuringElement(cv2.MORPH_RECT, (5, 5))\n",
    "print(k1)"
   ]
  },
  {
   "cell_type": "code",
   "execution_count": 14,
   "metadata": {},
   "outputs": [
    {
     "name": "stdout",
     "output_type": "stream",
     "text": [
      "[[0 0 1 0 0]\n",
      " [1 1 1 1 1]\n",
      " [1 1 1 1 1]\n",
      " [1 1 1 1 1]\n",
      " [0 0 1 0 0]]\n"
     ]
    }
   ],
   "source": [
    "\n",
    "# Elliptical Kernel\n",
    "k2 = cv2.getStructuringElement(cv2.MORPH_ELLIPSE, (5, 5))\n",
    "print(k2)\n"
   ]
  },
  {
   "cell_type": "code",
   "execution_count": 15,
   "metadata": {},
   "outputs": [
    {
     "name": "stdout",
     "output_type": "stream",
     "text": [
      "[[0 0 1 0 0]\n",
      " [0 0 1 0 0]\n",
      " [1 1 1 1 1]\n",
      " [0 0 1 0 0]\n",
      " [0 0 1 0 0]]\n"
     ]
    }
   ],
   "source": [
    "\n",
    "# Cross-shaped Kernel\n",
    "k3 = cv2.getStructuringElement(cv2.MORPH_CROSS, (5, 5))\n",
    "print(k3)"
   ]
  }
 ],
 "metadata": {
  "kernelspec": {
   "display_name": "Python 3.9.12 ('base')",
   "language": "python",
   "name": "python3"
  },
  "language_info": {
   "codemirror_mode": {
    "name": "ipython",
    "version": 3
   },
   "file_extension": ".py",
   "mimetype": "text/x-python",
   "name": "python",
   "nbconvert_exporter": "python",
   "pygments_lexer": "ipython3",
   "version": "3.9.12"
  },
  "orig_nbformat": 4,
  "vscode": {
   "interpreter": {
    "hash": "21a5c39365767a2fa524ef69c1af2974b54020195af1241f50c0914f2616b7f9"
   }
  }
 },
 "nbformat": 4,
 "nbformat_minor": 2
}

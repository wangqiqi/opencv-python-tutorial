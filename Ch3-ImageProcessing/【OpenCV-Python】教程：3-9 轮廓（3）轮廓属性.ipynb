{
 "cells": [
  {
   "cell_type": "code",
   "execution_count": 16,
   "metadata": {},
   "outputs": [
    {
     "name": "stdout",
     "output_type": "stream",
     "text": [
      "宽高比: 1.2568306010928962\n",
      "扩展度: 0.6216084580660489\n",
      "紧致度: 0.8096520138018537\n",
      "等效直径: 182.516856286422\n",
      "角度: 95.11093139648438\n",
      "最大值、最小值以及对应的位置 128.0 255.0 (228, 133) (0, 0)\n",
      "(253.84339715906134, 0.0, 0.0, 0.0)\n",
      "(124, 84) (353, 95) (283, 0) (290, 182)\n"
     ]
    }
   ],
   "source": [
    "import cv2\n",
    "import numpy as np \n",
    "\n",
    "img = cv2.imread(\"Australia.png\", 0)\n",
    "imgcolor = cv2.imread(\"Australia.png\", 1)\n",
    "\n",
    "# 二值化\n",
    "ret, thresh = cv2.threshold(img, 127, 255, cv2.THRESH_BINARY_INV)\n",
    "\n",
    "# 查找轮廓\n",
    "contours, hier = cv2.findContours(thresh, cv2.RETR_LIST, cv2.CHAIN_APPROX_SIMPLE)\n",
    "cnt = contours[0]\n",
    "\n",
    "# 画轮廓\n",
    "cv2.drawContours(imgcolor, contours, -1, (0, 255, 0), 2, cv2.LINE_4)\n",
    "\n",
    "# 宽高比\n",
    "x, y, w, h = cv2.boundingRect(cnt)\n",
    "aspect_ratio = float(w) / h\n",
    "print('宽高比:', aspect_ratio)\n",
    "\n",
    "# 扩展度\n",
    "## 轮廓面积与外接矩形面积比\n",
    "area = cv2.contourArea(cnt)\n",
    "rect_area = w * h \n",
    "extend = (float)(area)/rect_area\n",
    "print('扩展度:', extend)\n",
    "\n",
    "# 紧致度\n",
    "## 轮廓面积与凸包面积比\n",
    "hull = cv2.convexHull(cnt)\n",
    "hull_area = cv2.contourArea(hull)\n",
    "solidity = (float)(area) / hull_area\n",
    "print('紧致度:', solidity)\n",
    "cv2.drawContours(imgcolor, [hull], 0, (0, 128, 128), 2, cv2.LINE_4)\n",
    "\n",
    "# 等效直径\n",
    "equi_diameter = np.sqrt(4 * area / np.pi)\n",
    "print(\"等效直径:\", equi_diameter)\n",
    "# circularity = (4 * area ) / (equi_diameter * equi_diameter * np.pi)\n",
    "# print(\"圆度:\", circularity)\n",
    "\n",
    "# 方向\n",
    "# 椭圆拟合的返回值，旋转矩形\n",
    "## center: 中心\n",
    "## size: 矩形的宽高\n",
    "## angle: 旋转角度\n",
    "ellipse = cv2.fitEllipse(cnt) \n",
    "(x, y), (MajorA, MinorA), angle = ellipse\n",
    "# 画椭圆和中心\n",
    "cv2.ellipse(imgcolor, ellipse, (100, 0, 255), 2)\n",
    "cv2.circle(imgcolor, (int(x), int(y)), 3, (255, 0, 255), 2)\n",
    "print(\"角度:\", angle)\n",
    "\n",
    "# 找到全局中最大值和最小值\n",
    "min_val, max_val, min_loc, max_loc = cv2.minMaxLoc(img, mask=~thresh)\n",
    "cv2.circle(imgcolor, min_loc, 3, (0, 0, 255), 2)\n",
    "cv2.circle(imgcolor, max_loc, 3, (0, 0, 255), 2)\n",
    "print(\"最大值、最小值以及对应的位置\", min_val, max_val, min_loc, max_loc)\n",
    "\n",
    "# 平均颜色和亮度\n",
    "mean_val = cv2.mean(img, mask=~thresh)\n",
    "print(mean_val)\n",
    "\n",
    "# 最左，最右，最上，最下的顶点\n",
    "leftmost = tuple(cnt[cnt[:,:,0].argmin()][0])\n",
    "rightmost = tuple(cnt[cnt[:,:,0].argmax()][0])\n",
    "topmost = tuple(cnt[cnt[:,:,1].argmin()][0])\n",
    "bottommost = tuple(cnt[cnt[:,:,1].argmax()][0])\n",
    "print(leftmost, rightmost, topmost, bottommost)\n",
    "cv2.circle(imgcolor, leftmost, 3, (0, 128, 255), 3)\n",
    "cv2.circle(imgcolor, rightmost, 3, (0, 128, 255), 3)\n",
    "cv2.circle(imgcolor, topmost, 3, (0, 128, 255), 3)\n",
    "cv2.circle(imgcolor, bottommost, 3, (0, 128, 255), 3)\n",
    "\n",
    "\n",
    "cv2.imshow(\"thresh\", ~thresh)\n",
    "cv2.imshow(\"imgcolor\", imgcolor)\n",
    "cv2.waitKey(0)\n",
    "cv2.destroyAllWindows()\n"
   ]
  }
 ],
 "metadata": {
  "kernelspec": {
   "display_name": "Python 3.9.12 ('base')",
   "language": "python",
   "name": "python3"
  },
  "language_info": {
   "codemirror_mode": {
    "name": "ipython",
    "version": 3
   },
   "file_extension": ".py",
   "mimetype": "text/x-python",
   "name": "python",
   "nbconvert_exporter": "python",
   "pygments_lexer": "ipython3",
   "version": "3.9.12"
  },
  "orig_nbformat": 4,
  "vscode": {
   "interpreter": {
    "hash": "21a5c39365767a2fa524ef69c1af2974b54020195af1241f50c0914f2616b7f9"
   }
  }
 },
 "nbformat": 4,
 "nbformat_minor": 2
}

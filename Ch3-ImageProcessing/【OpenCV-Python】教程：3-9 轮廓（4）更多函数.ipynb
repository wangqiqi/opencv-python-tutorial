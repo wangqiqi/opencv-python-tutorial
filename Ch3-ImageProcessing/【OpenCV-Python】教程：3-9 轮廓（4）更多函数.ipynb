{
 "cells": [
  {
   "cell_type": "code",
   "execution_count": 20,
   "metadata": {},
   "outputs": [],
   "source": [
    "import cv2 \n",
    "import numpy as np \n",
    "\n",
    "img = cv2.imread('assets/star.png', 0)\n",
    "colorimg = cv2.imread('assets/star.png', 1)\n",
    "convexHullImg = colorimg.copy()\n",
    "ret, thresh = cv2.threshold(img, 128, 255, cv2.THRESH_BINARY)\n",
    "\n",
    "# 寻找轮廓\n",
    "contours, hierarchy = cv2.findContours(thresh, cv2.RETR_LIST, cv2.CHAIN_APPROX_SIMPLE)\n",
    "cnt = contours[0]\n",
    "\n",
    "# 凸包\n",
    "hull = cv2.convexHull(cnt, returnPoints=False)\n",
    "defects = cv2.convexityDefects(cnt, hull)\n",
    "\n",
    "# 画出缺陷凹点\n",
    "for i in range(defects.shape[0]):\n",
    "    startptidx, endptidx, farptidx, dis = defects[i, 0]\n",
    "    startpt = tuple(cnt[startptidx][0])\n",
    "    endpt = tuple(cnt[endptidx][0])\n",
    "    farpt = tuple(cnt[farptidx][0])    \n",
    "    cv2.line(convexHullImg, startpt, endpt, (0, 255, 255))\n",
    "    cv2.circle(convexHullImg, farpt, 3, (0, 0, 255), 3)\n",
    "\n",
    "\n",
    "\n",
    "# 根据点在图像中和轮廓中的位置，画出颜色图\n",
    "polygonTestImg = colorimg.copy()\n",
    "# cv2.circle(polygonTestImg, (280, 180), 3, (0, 0, 255), 3)\n",
    "dist = cv2.pointPolygonTest(cnt, (50, 50), True)\n",
    "h, w, _ = polygonTestImg.shape\n",
    "# 在轮廓外，越近越蓝\n",
    "# 在轮廓内，越近越红\n",
    "# 在轮廓上，为白色\n",
    "bluevalue = 255\n",
    "redvalue = 255\n",
    "for j in range(h):\n",
    "    for i in range(w):\n",
    "        dist = cv2.pointPolygonTest(cnt, (i, j), True)\n",
    "        if dist > 127:\n",
    "            dist = 127\n",
    "        \n",
    "        if dist < -127:\n",
    "            dist = -127\n",
    "        \n",
    "        if dist > 0:\n",
    "            colorshow = (255 - dist * 2, 255 - dist * 2, 0)\n",
    "        elif dist < 0:\n",
    "            colorshow = (0, 255 + dist * 2, 255 + dist * 2)\n",
    "        elif dist == 0:\n",
    "            colorshow = (255, 255, 255)\n",
    "        \n",
    "        cv2.circle(polygonTestImg, (i, j), 2, colorshow, 2)\n",
    "\n",
    "# cv2.imshow('thresh', thresh)\n",
    "cv2.imshow('convexHullImg', convexHullImg)\n",
    "cv2.imshow('polygonTestImg', polygonTestImg)\n",
    "cv2.waitKey(0)\n",
    "cv2.destroyAllWindows()\n"
   ]
  },
  {
   "cell_type": "code",
   "execution_count": 21,
   "metadata": {},
   "outputs": [
    {
     "name": "stdout",
     "output_type": "stream",
     "text": [
      "0.05888818307213595 0.2987404256696341 1.6190198650037022\n"
     ]
    }
   ],
   "source": [
    "# 测试形状匹配\n",
    "import cv2\n",
    "import numpy as np \n",
    "\n",
    "img1 = cv2.imread('assets/star.png', 0)\n",
    "img2 = cv2.imread('assets/box.png', 0)\n",
    "img3 = cv2.imread('assets/testfit.png', 0)\n",
    "\n",
    "ret1, thresh1 = cv2.threshold(img1, 127, 255, cv2.THRESH_BINARY)\n",
    "ret2, thresh2 = cv2.threshold(img2, 127, 255, cv2.THRESH_BINARY)\n",
    "ret3, thresh3 = cv2.threshold(img3, 127, 255, cv2.THRESH_BINARY)\n",
    "\n",
    "con1, hir1 = cv2.findContours(thresh1, cv2.RETR_LIST, cv2.CHAIN_APPROX_SIMPLE)\n",
    "con2, hir2 = cv2.findContours(thresh2, cv2.RETR_LIST, cv2.CHAIN_APPROX_SIMPLE)\n",
    "con3, hir3 = cv2.findContours(thresh3, cv2.RETR_LIST, cv2.CHAIN_APPROX_SIMPLE)\n",
    "\n",
    "cnt1 = con1[0]\n",
    "cnt2 = con2[0]\n",
    "cnt3 = con3[0]\n",
    "\n",
    "ret12 = cv2.matchShapes(cnt1, cnt2, cv2.CONTOURS_MATCH_I2, 0.0) \n",
    "ret13 = cv2.matchShapes(cnt1, cnt3, cv2.CONTOURS_MATCH_I2, 0.0)\n",
    "ret23 = cv2.matchShapes(cnt2, cnt3, cv2.CONTOURS_MATCH_I2, 0.0)\n",
    "\n",
    "print(ret12, ret13, ret23)\n",
    "\n",
    "\n",
    "cv2.imshow('img1', img1)\n",
    "cv2.imshow('img2', img2)\n",
    "cv2.imshow('img3', img3)\n",
    "\n",
    "cv2.waitKey(0)\n",
    "cv2.destroyAllWindows()\n",
    "\n"
   ]
  }
 ],
 "metadata": {
  "kernelspec": {
   "display_name": "Python 3.9.12 ('base')",
   "language": "python",
   "name": "python3"
  },
  "language_info": {
   "codemirror_mode": {
    "name": "ipython",
    "version": 3
   },
   "file_extension": ".py",
   "mimetype": "text/x-python",
   "name": "python",
   "nbconvert_exporter": "python",
   "pygments_lexer": "ipython3",
   "version": "3.9.12"
  },
  "orig_nbformat": 4,
  "vscode": {
   "interpreter": {
    "hash": "21a5c39365767a2fa524ef69c1af2974b54020195af1241f50c0914f2616b7f9"
   }
  }
 },
 "nbformat": 4,
 "nbformat_minor": 2
}

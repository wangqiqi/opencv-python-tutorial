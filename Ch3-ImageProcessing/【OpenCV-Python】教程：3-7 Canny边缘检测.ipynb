{
 "cells": [
  {
   "cell_type": "code",
   "execution_count": 1,
   "metadata": {},
   "outputs": [],
   "source": [
    "import numpy as np\n",
    "import cv2\n",
    "from matplotlib import pyplot as plt\n",
    "\n",
    "img = cv2.imread('assets/messi5.jpg',0)\n",
    "edges = cv2.Canny(img,100,200)\n",
    "\n",
    "cv2.imshow(\"src\", img)\n",
    "cv2.imshow(\"edge\", edges)\n",
    "\n",
    "cv2.waitKey(0)\n",
    "cv2.destroyAllWindows()\n",
    "\n",
    "# plt.subplot(121),plt.imshow(img,cmap = 'gray')\n",
    "# plt.title('Original Image'), plt.xticks([]), plt.yticks([])\n",
    "# plt.subplot(122),plt.imshow(edges,cmap = 'gray')\n",
    "# plt.title('Edge Image'), plt.xticks([]), plt.yticks([])\n",
    "\n",
    "# plt.show()"
   ]
  },
  {
   "cell_type": "code",
   "execution_count": 7,
   "metadata": {},
   "outputs": [],
   "source": [
    "import numpy as np\n",
    "import cv2\n",
    "\n",
    "# 空函数\n",
    "def nothing(x):\n",
    "    pass\n",
    "\n",
    "img = cv2.imread('assets/messi5.jpg', 0)\n",
    "cv2.namedWindow('image')\n",
    "\n",
    "cv2.createTrackbar('min', 'image', 10, 200, nothing)\n",
    "cv2.createTrackbar('max', 'image', 0, 255, nothing)\n",
    "\n",
    "cv2.setTrackbarPos('min', 'image', 50)\n",
    "cv2.setTrackbarPos('max', 'image', 150)\n",
    "\n",
    "\n",
    "while(1):\n",
    "    cv2.imshow('image', img)\n",
    "    if cv2.waitKey(2) & 0xFF == 27:\n",
    "        break\n",
    "    \n",
    "    minVal = cv2.getTrackbarPos('min', 'image')\n",
    "    maxVal = cv2.getTrackbarPos('max', 'image')\n",
    "    \n",
    "    if maxVal < minVal:\n",
    "        maxVal = minVal + 10\n",
    "        cv2.setTrackbarPos('max', 'image', maxVal)\n",
    "\n",
    "    edges = cv2.Canny(img, minVal, maxVal)\n",
    "    cv2.imshow('canny', edges)\n",
    "\n",
    "cv2.destroyAllWindows()"
   ]
  }
 ],
 "metadata": {
  "kernelspec": {
   "display_name": "Python 3.8.13 ('pytorch')",
   "language": "python",
   "name": "python3"
  },
  "language_info": {
   "codemirror_mode": {
    "name": "ipython",
    "version": 3
   },
   "file_extension": ".py",
   "mimetype": "text/x-python",
   "name": "python",
   "nbconvert_exporter": "python",
   "pygments_lexer": "ipython3",
   "version": "3.8.13"
  },
  "orig_nbformat": 4,
  "vscode": {
   "interpreter": {
    "hash": "719f98299ccca36a884f9d141671719e20aaacc8082e234f139e455a4a5b836e"
   }
  }
 },
 "nbformat": 4,
 "nbformat_minor": 2
}

{
 "cells": [
  {
   "cell_type": "code",
   "execution_count": 33,
   "metadata": {},
   "outputs": [],
   "source": [
    "import numpy as np \n",
    "import cv2 \n",
    "\n",
    "img = cv2.imread(\"assets/opencv-logo.png\", 0)\n",
    "img = cv2.medianBlur(img, 5)\n",
    "img_color = cv2.imread(\"assets/opencv-logo.png\", 1)\n",
    "\n",
    "circles = cv2.HoughCircles(img, method=cv2.HOUGH_GRADIENT, dp=1.2, minDist=3,\n",
    "                        param1=150, param2=50, minRadius=30, maxRadius=400)\n",
    "circles = np.uint16(np.around(circles))\n",
    "\n",
    "for i in circles[0, :]:\n",
    "    # draw the outer circle\n",
    "    cv2.circle(img_color, (i[0], i[1]), i[2], (0, 255, 0), 2)\n",
    "    # draw the center of the circle\n",
    "    cv2.circle(img_color, (i[0], i[1]), 2, (0, 0, 255), 3)\n",
    "\n",
    "cv2.imshow(\"detected circles\", img_color)\n",
    "cv2.waitKey(0)\n",
    "cv2.destroyAllWindows()"
   ]
  }
 ],
 "metadata": {
  "kernelspec": {
   "display_name": "Python 3.8.13 ('pytorch')",
   "language": "python",
   "name": "python3"
  },
  "language_info": {
   "codemirror_mode": {
    "name": "ipython",
    "version": 3
   },
   "file_extension": ".py",
   "mimetype": "text/x-python",
   "name": "python",
   "nbconvert_exporter": "python",
   "pygments_lexer": "ipython3",
   "version": "3.8.13"
  },
  "orig_nbformat": 4,
  "vscode": {
   "interpreter": {
    "hash": "719f98299ccca36a884f9d141671719e20aaacc8082e234f139e455a4a5b836e"
   }
  }
 },
 "nbformat": 4,
 "nbformat_minor": 2
}

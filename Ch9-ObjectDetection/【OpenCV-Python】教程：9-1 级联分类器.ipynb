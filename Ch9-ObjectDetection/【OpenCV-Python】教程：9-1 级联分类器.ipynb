{
 "cells": [
  {
   "cell_type": "code",
   "execution_count": 4,
   "metadata": {},
   "outputs": [
    {
     "name": "stdout",
     "output_type": "stream",
     "text": [
      "--(!) No captured frame -- Break!\n"
     ]
    }
   ],
   "source": [
    "import cv2\n",
    "\n",
    "def detectAndDisplay(frame):\n",
    "    frame_gray = cv2.cvtColor(frame, cv2.COLOR_BGR2GRAY)\n",
    "    frame_gray = cv2.equalizeHist(frame_gray)\n",
    "    # -- Detect faces\n",
    "    faces = face_cascade.detectMultiScale(frame_gray)\n",
    "    for (x, y, w, h) in faces:\n",
    "        center = (x + w//2, y + h//2)\n",
    "        frame = cv2.ellipse(frame, center, (w//2, h//2),\n",
    "                        0, 0, 360, (255, 0, 255), 4)\n",
    "        faceROI = frame_gray[y:y+h, x:x+w]\n",
    "        # -- In each face, detect eyes\n",
    "        eyes = eyes_cascade.detectMultiScale(faceROI)\n",
    "        for (x2, y2, w2, h2) in eyes:\n",
    "            eye_center = (x + x2 + w2//2, y + y2 + h2//2)\n",
    "            radius = int(round((w2 + h2)*0.25))\n",
    "            frame = cv2.circle(frame, eye_center, radius, (255, 0, 0), 4)\n",
    "    cv2.imshow('Capture - Face detection', frame)\n",
    "    return frame \n",
    "\n",
    "face_cascade_name = \"assets/haarcascade_frontalface_alt.xml\"\n",
    "eyes_cascade_name = \"assets/haarcascade_eye_tree_eyeglasses.xml\"\n",
    "\n",
    "face_cascade = cv2.CascadeClassifier()\n",
    "eyes_cascade = cv2.CascadeClassifier()\n",
    "# -- 1. Load the cascades\n",
    "if not face_cascade.load(face_cascade_name):\n",
    "    print('--(!)Error loading face cascade')\n",
    "    exit(0)\n",
    "if not eyes_cascade.load(eyes_cascade_name):\n",
    "    print('--(!)Error loading eyes cascade')\n",
    "    exit(0)\n",
    "\n",
    "# camera_device = 0\n",
    "camera_device = \"assets/1.mp4\"\n",
    "# -- 2. Read the video stream\n",
    "cap = cv2.VideoCapture(camera_device)\n",
    "\n",
    "ret, frame = cap.read()\n",
    "h, w, _ = frame.shape\n",
    "\n",
    "\n",
    "# 定义保存视频的编码格式、分辨率和帧率等信息\n",
    "fourcc = cv2.VideoWriter_fourcc(*'XVID')\n",
    "out = cv2.VideoWriter('output.mp4', fourcc, 20.0, (w//2,  h//2))\n",
    "\n",
    "if not cap.isOpened:\n",
    "    print('--(!)Error opening video capture')\n",
    "    exit(0)\n",
    "while True:\n",
    "    ret, frame = cap.read()\n",
    "    if frame is None:\n",
    "        print('--(!) No captured frame -- Break!')\n",
    "        \n",
    "        break\n",
    "    \n",
    "    framersz = cv2.resize(frame, (0, 0), fx=0.5, fy=0.5)\n",
    "    frmaeres = detectAndDisplay(framersz)\n",
    "    \n",
    "    # 保存视频\n",
    "    out.write(frmaeres)\n",
    "    \n",
    "    if cv2.waitKey(10) == 27:\n",
    "        break\n",
    "    \n",
    "cap.release()\n",
    "out.release()\n",
    "cv2.destroyAllWindows()"
   ]
  }
 ],
 "metadata": {
  "kernelspec": {
   "display_name": "pytorch",
   "language": "python",
   "name": "python3"
  },
  "language_info": {
   "codemirror_mode": {
    "name": "ipython",
    "version": 3
   },
   "file_extension": ".py",
   "mimetype": "text/x-python",
   "name": "python",
   "nbconvert_exporter": "python",
   "pygments_lexer": "ipython3",
   "version": "3.8.13 | packaged by conda-forge | (default, Mar 25 2022, 05:59:00) [MSC v.1929 64 bit (AMD64)]"
  },
  "orig_nbformat": 4,
  "vscode": {
   "interpreter": {
    "hash": "719f98299ccca36a884f9d141671719e20aaacc8082e234f139e455a4a5b836e"
   }
  }
 },
 "nbformat": 4,
 "nbformat_minor": 2
}

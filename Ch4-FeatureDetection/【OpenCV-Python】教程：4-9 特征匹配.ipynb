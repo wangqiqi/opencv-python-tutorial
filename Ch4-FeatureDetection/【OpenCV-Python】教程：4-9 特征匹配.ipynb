{
 "cells": [
  {
   "cell_type": "code",
   "execution_count": 20,
   "metadata": {},
   "outputs": [],
   "source": [
    "# ORB 特征及 bf matcher\n",
    "import numpy as np \n",
    "import cv2 \n",
    "import matplotlib.pyplot as plt\n",
    "\n",
    "img1 = cv2.imread(\"assets/box.png\", 0)\n",
    "img2 = cv2.imread(\"assets/box_in_scene.png\", 0)\n",
    "\n",
    "# 创建 ORB 对象\n",
    "orb = cv2.ORB_create()\n",
    "\n",
    "# 检测关键点并计算特征\n",
    "kp1, des1 = orb.detectAndCompute(img1, None)\n",
    "kp2, des2 = orb.detectAndCompute(img2, None)\n",
    "\n",
    "# 创建匹配器\n",
    "bf = cv2.BFMatcher(cv2.NORM_HAMMING, crossCheck=True)\n",
    "\n",
    "# 匹配\n",
    "matchs = bf.match(des1, des2)\n",
    "\n",
    "# 排序\n",
    "matchs = sorted(matchs, key=lambda x: x.distance)\n",
    "\n",
    "# 绘制匹配结果\n",
    "img_res = cv2.drawMatches(img1, kp1, img2, kp2, matchs[:15], None, flags=cv2.DrawMatchesFlags_NOT_DRAW_SINGLE_POINTS)\n",
    "\n",
    "cv2.imshow(\"orb-bfmatches\", img_res)\n",
    "cv2.waitKey(0)\n",
    "cv2.destroyAllWindows()"
   ]
  },
  {
   "cell_type": "code",
   "execution_count": 21,
   "metadata": {},
   "outputs": [],
   "source": [
    "# SIFT 和 bf knn matcher\n",
    "import numpy as np \n",
    "import cv2\n",
    "\n",
    "img1 = cv2.imread(\"assets/box.png\", 0)\n",
    "img2 = cv2.imread(\"assets/box_in_scene.png\", 0)\n",
    "\n",
    "sift = cv2.SIFT_create()\n",
    "\n",
    "kp1, des1 = sift.detectAndCompute(img1, None)\n",
    "kp2, des2 = sift.detectAndCompute(img2, None)\n",
    "\n",
    "bf = cv2.BFMatcher()\n",
    "matches = bf.knnMatch(des1, des2, k=2)\n",
    "\n",
    "good = []\n",
    "for m, n in matches:\n",
    "    if m.distance < 0.5*n.distance:\n",
    "        good.append([m])\n",
    "\n",
    "img_res = cv2.drawMatchesKnn(img1, kp1, img2, kp2, good,\n",
    "                            None, flags=cv2.DrawMatchesFlags_NOT_DRAW_SINGLE_POINTS)\n",
    "\n",
    "cv2.imshow(\"sift-bfknnmatches\", img_res)\n",
    "cv2.waitKey(0)\n",
    "cv2.destroyAllWindows()"
   ]
  },
  {
   "cell_type": "code",
   "execution_count": 19,
   "metadata": {},
   "outputs": [],
   "source": [
    "# sift FLANN matcher\n",
    "import numpy as np \n",
    "import cv2 \n",
    "\n",
    "img1 = cv2.imread(\"assets/box.png\", 0)\n",
    "img2 = cv2.imread(\"assets/box_in_scene.png\", 0)\n",
    "\n",
    "# 初始化创建\n",
    "sift = cv2.SIFT_create()\n",
    "\n",
    "# 关键点检测和特征计算\n",
    "kp1, des1 = sift.detectAndCompute(img1, None)\n",
    "kp2, des2 = sift.detectAndCompute(img2, None)\n",
    "\n",
    "# FLANN parameters\n",
    "FLANN_INDEX_KDTREE = 1\n",
    "index_params = dict(algorithm=FLANN_INDEX_KDTREE, trees=5)\n",
    "search_params = dict(checks=50)   # or pass empty dictionary\n",
    "flann = cv2.FlannBasedMatcher(index_params, search_params)\n",
    "matches = flann.knnMatch(des1, des2, k=2)\n",
    "\n",
    "# Need to draw only good matches, so create a mask\n",
    "matchesMask = [[0, 0] for i in range(len(matches))]\n",
    "# ratio test as per Lowe's paper\n",
    "for i, (m, n) in enumerate(matches):\n",
    "    if m.distance < 0.5*n.distance:\n",
    "        matchesMask[i] = [1, 0]\n",
    "draw_params = dict(matchColor=(0, 255, 0),\n",
    "                    singlePointColor=(255, 0, 0),\n",
    "                    matchesMask=matchesMask,\n",
    "                    flags=cv2.DrawMatchesFlags_DEFAULT)\n",
    "img3 = cv2.drawMatchesKnn(img1, kp1, img2, kp2, matches, None, **draw_params)\n",
    "\n",
    "cv2.imshow(\"sift-flannmatches\", img3)\n",
    "cv2.waitKey(0)\n",
    "cv2.destroyAllWindows()"
   ]
  }
 ],
 "metadata": {
  "kernelspec": {
   "display_name": "pytorch",
   "language": "python",
   "name": "python3"
  },
  "language_info": {
   "codemirror_mode": {
    "name": "ipython",
    "version": 3
   },
   "file_extension": ".py",
   "mimetype": "text/x-python",
   "name": "python",
   "nbconvert_exporter": "python",
   "pygments_lexer": "ipython3",
   "version": "3.8.13"
  },
  "orig_nbformat": 4,
  "vscode": {
   "interpreter": {
    "hash": "719f98299ccca36a884f9d141671719e20aaacc8082e234f139e455a4a5b836e"
   }
  }
 },
 "nbformat": 4,
 "nbformat_minor": 2
}

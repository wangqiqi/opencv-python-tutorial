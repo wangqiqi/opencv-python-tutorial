{
 "cells": [
  {
   "cell_type": "code",
   "execution_count": 5,
   "metadata": {},
   "outputs": [
    {
     "name": "stdout",
     "output_type": "stream",
     "text": [
      "Threshold: 10\n",
      "nonmaxSuppression:True\n",
      "neighborhood: 2\n",
      "Total Keypoints with nonmaxSuppression: 431\n",
      "Total Keypoints without nonmaxSuppression: 1575\n"
     ]
    }
   ],
   "source": [
    "import numpy \n",
    "import cv2 \n",
    "from matplotlib import pyplot as plt\n",
    "\n",
    "# 读取图片\n",
    "img = cv2.imread(\"assets/blox.jpg\", 0)\n",
    "colorim = cv2.imread(\"assets/blox.jpg\", 1)\n",
    "\n",
    "# 创建Fast检测\n",
    "fast = cv2.FastFeatureDetector_create()\n",
    "\n",
    "# Fast 特征检测\n",
    "kp = fast.detect(img, None)\n",
    "\n",
    "# 画特征点\n",
    "img2 = cv2.drawKeypoints(img, kp, None, color=(255,0,0))\n",
    "\n",
    "# 打印所有参数\n",
    "print( \"Threshold: {}\".format(fast.getThreshold()) )\n",
    "print( \"nonmaxSuppression:{}\".format(fast.getNonmaxSuppression()) )\n",
    "print( \"neighborhood: {}\".format(fast.getType()) )\n",
    "print( \"Total Keypoints with nonmaxSuppression: {}\".format(len(kp)) )\n",
    "\n",
    "# 关闭非极大值抑制\n",
    "fast.setNonmaxSuppression(0)\n",
    "kp = fast.detect(img, None)\n",
    "print(\"Total Keypoints without nonmaxSuppression: {}\".format(len(kp)))\n",
    "img3 = cv2.drawKeypoints(img, kp, None, color=(255, 0, 0))\n",
    "\n",
    "cv2.imshow(\"img2\", img2)\n",
    "cv2.imshow(\"img3\", img3)\n",
    "cv2.waitKey(0)\n",
    "cv2.destroyAllWindows()\n"
   ]
  }
 ],
 "metadata": {
  "kernelspec": {
   "display_name": "pytorch",
   "language": "python",
   "name": "python3"
  },
  "language_info": {
   "codemirror_mode": {
    "name": "ipython",
    "version": 3
   },
   "file_extension": ".py",
   "mimetype": "text/x-python",
   "name": "python",
   "nbconvert_exporter": "python",
   "pygments_lexer": "ipython3",
   "version": "3.8.13 | packaged by conda-forge | (default, Mar 25 2022, 05:59:00) [MSC v.1929 64 bit (AMD64)]"
  },
  "orig_nbformat": 4,
  "vscode": {
   "interpreter": {
    "hash": "719f98299ccca36a884f9d141671719e20aaacc8082e234f139e455a4a5b836e"
   }
  }
 },
 "nbformat": 4,
 "nbformat_minor": 2
}

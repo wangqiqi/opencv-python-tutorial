{
 "cells": [
  {
   "cell_type": "code",
   "execution_count": 36,
   "metadata": {},
   "outputs": [
    {
     "name": "stdout",
     "output_type": "stream",
     "text": [
      "431\n",
      "331\n",
      "32\n",
      "33\n"
     ]
    }
   ],
   "source": [
    "import numpy as np \n",
    "import cv2 \n",
    "from matplotlib import pyplot as plt\n",
    "\n",
    "img = cv2.imread(\"assets/blox.jpg\")\n",
    "\n",
    "# fast检测\n",
    "fast_kp = cv2.FastFeatureDetector_create()\n",
    "\n",
    "# brief 描述子\n",
    "brief = cv2.xfeatures2d.BriefDescriptorExtractor.create()\n",
    "\n",
    "# 特征点检测\n",
    "kp = fast_kp.detect(img, None)\n",
    "print(len(kp))\n",
    "\n",
    "# 计算特征\n",
    "kp, des = brief.compute(img, kp)\n",
    "print(len(kp))\n",
    "\n",
    "# 画关键点\n",
    "img2 = cv2.drawKeypoints(img, kp, None, color=(255,0,0), flags=0)\n",
    "print(brief.descriptorSize())\n",
    "\n",
    "star = cv2.xfeatures2d.StarDetector_create()\n",
    "star_kp = star.detect(img, None)\n",
    "img3 = cv2.drawKeypoints(img, star_kp, None, color=(255, 0, 0), flags=0)\n",
    "print(len(star_kp))\n",
    "\n",
    "\n",
    "cv2.imshow(\"fastkpafter\", img2)\n",
    "cv2.imshow(\"starkp\", img3)\n",
    "cv2.waitKey(0)\n",
    "cv2.destroyAllWindows()\n"
   ]
  }
 ],
 "metadata": {
  "kernelspec": {
   "display_name": "pytorch",
   "language": "python",
   "name": "python3"
  },
  "language_info": {
   "codemirror_mode": {
    "name": "ipython",
    "version": 3
   },
   "file_extension": ".py",
   "mimetype": "text/x-python",
   "name": "python",
   "nbconvert_exporter": "python",
   "pygments_lexer": "ipython3",
   "version": "3.8.13 | packaged by conda-forge | (default, Mar 25 2022, 05:59:00) [MSC v.1929 64 bit (AMD64)]"
  },
  "orig_nbformat": 4,
  "vscode": {
   "interpreter": {
    "hash": "719f98299ccca36a884f9d141671719e20aaacc8082e234f139e455a4a5b836e"
   }
  }
 },
 "nbformat": 4,
 "nbformat_minor": 2
}

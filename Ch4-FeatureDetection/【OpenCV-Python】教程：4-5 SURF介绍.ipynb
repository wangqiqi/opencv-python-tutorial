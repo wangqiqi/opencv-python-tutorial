{
 "cells": [
  {
   "cell_type": "code",
   "execution_count": 1,
   "metadata": {},
   "outputs": [
    {
     "ename": "error",
     "evalue": "OpenCV(4.6.0) D:\\a\\opencv-python\\opencv-python\\opencv_contrib\\modules\\xfeatures2d\\src\\surf.cpp:1029: error: (-213:The function/feature is not implemented) This algorithm is patented and is excluded in this configuration; Set OPENCV_ENABLE_NONFREE CMake option and rebuild the library in function 'cv::xfeatures2d::SURF::create'\n",
     "output_type": "error",
     "traceback": [
      "\u001b[1;31m---------------------------------------------------------------------------\u001b[0m",
      "\u001b[1;31merror\u001b[0m                                     Traceback (most recent call last)",
      "Cell \u001b[1;32mIn [1], line 8\u001b[0m\n\u001b[0;32m      4\u001b[0m img \u001b[39m=\u001b[39m cv2\u001b[39m.\u001b[39mimread(\u001b[39m\"\u001b[39m\u001b[39massets/home.jpg\u001b[39m\u001b[39m\"\u001b[39m)\n\u001b[0;32m      5\u001b[0m img_gray \u001b[39m=\u001b[39m cv2\u001b[39m.\u001b[39mimread(\u001b[39m\"\u001b[39m\u001b[39massets/home.jpg\u001b[39m\u001b[39m\"\u001b[39m, \u001b[39m0\u001b[39m)\n\u001b[1;32m----> 8\u001b[0m surf \u001b[39m=\u001b[39m cv2\u001b[39m.\u001b[39;49mxfeatures2d\u001b[39m.\u001b[39;49mSURF_create()\n\u001b[0;32m     10\u001b[0m minHessian \u001b[39m=\u001b[39m \u001b[39m400\u001b[39m\n\u001b[0;32m     11\u001b[0m detector \u001b[39m=\u001b[39m cv2\u001b[39m.\u001b[39mxfeatures2d_SURF\u001b[39m.\u001b[39mcreate(hessianThreshold\u001b[39m=\u001b[39mminHessian)\n",
      "\u001b[1;31merror\u001b[0m: OpenCV(4.6.0) D:\\a\\opencv-python\\opencv-python\\opencv_contrib\\modules\\xfeatures2d\\src\\surf.cpp:1029: error: (-213:The function/feature is not implemented) This algorithm is patented and is excluded in this configuration; Set OPENCV_ENABLE_NONFREE CMake option and rebuild the library in function 'cv::xfeatures2d::SURF::create'\n"
     ]
    }
   ],
   "source": [
    "import numpy as np \n",
    "import cv2 \n",
    "\n",
    "img = cv2.imread(\"assets/home.jpg\")\n",
    "img_gray = cv2.imread(\"assets/home.jpg\", 0)\n",
    "\n",
    "\n",
    "surf = cv2.xfeatures2d.SURF_create()\n",
    "\n",
    "minHessian = 400\n",
    "detector = cv2.xfeatures2d_SURF.create(hessianThreshold=minHessian)\n",
    "keypoints = detector.detect(img_gray)\n",
    "\n",
    "# -- Draw keypoints\n",
    "img_keypoints = np.empty((img_gray.shape[0], img_gray.shape[1], 3), dtype=np.uint8)\n",
    "cv2.drawKeypoints(img_gray, keypoints, img_keypoints)\n",
    "\n",
    "# -- Show detected (drawn) keypoints\n",
    "cv2.imshow('SURF Keypoints', img_keypoints)\n",
    "\n",
    "cv2.waitKey()\n",
    "\n",
    "\n",
    "# # Check present Hessian threshold\n",
    "# >>> print( surf.getHessianThreshold() )\n",
    "# 400.0\n",
    "# # We set it to some 50000. Remember, it is just for representing in picture.\n",
    "# # In actual cases, it is better to have a value 300-500\n",
    "# >>> surf.setHessianThreshold(50000)\n",
    "# # Again compute keypoints and check its number.\n",
    "# >>> kp, des = surf.detectAndCompute(img,None)\n",
    "# >>> print( len(kp) )\n",
    "# 47\n",
    "\n",
    "# cv2.imshow(\"img\", img)\n",
    "# cv2.waitKey(0)\n",
    "cv2.destroyAllWindows()"
   ]
  }
 ],
 "metadata": {
  "kernelspec": {
   "display_name": "pytorch",
   "language": "python",
   "name": "python3"
  },
  "language_info": {
   "codemirror_mode": {
    "name": "ipython",
    "version": 3
   },
   "file_extension": ".py",
   "mimetype": "text/x-python",
   "name": "python",
   "nbconvert_exporter": "python",
   "pygments_lexer": "ipython3",
   "version": "3.8.13"
  },
  "orig_nbformat": 4,
  "vscode": {
   "interpreter": {
    "hash": "719f98299ccca36a884f9d141671719e20aaacc8082e234f139e455a4a5b836e"
   }
  }
 },
 "nbformat": 4,
 "nbformat_minor": 2
}

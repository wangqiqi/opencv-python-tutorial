{
 "cells": [
  {
   "cell_type": "code",
   "execution_count": 19,
   "metadata": {},
   "outputs": [],
   "source": [
    "import numpy as np \n",
    "import cv2 \n",
    "from matplotlib import pyplot as plt\n",
    "\n",
    "# 读入图像\n",
    "img1 = cv2.imread(\"assets/box.png\", 0)\n",
    "img2 = cv2.imread(\"assets/box_in_scene.png\", 0)\n",
    "\n",
    "# 创建SIFT\n",
    "sift = cv2.SIFT_create()\n",
    "\n",
    "# 找关键点和计算特征\n",
    "kp1, des1 = sift.detectAndCompute(img1, None)\n",
    "kp2, des2 = sift.detectAndCompute(img2, None)\n",
    "\n",
    "# 寻找匹配的关键点\n",
    "FLANN_INDEX_KDTREE = 0\n",
    "index_params = dict(algorithm = FLANN_INDEX_KDTREE, trees = 5)\n",
    "seach_params = dict(checks = 50)\n",
    "\n",
    "good = []\n",
    "flann = cv2.FlannBasedMatcher(index_params, seach_params)\n",
    "matches = flann.knnMatch(des1, des2, k=2)\n",
    "for m, n in matches:\n",
    "    if m.distance < 0.7*n.distance:\n",
    "        good.append(m)\n",
    "\n",
    "\n",
    "# 找到映射关系\n",
    "MIN_MATCH_COUNT = 10\n",
    "pts__ = None \n",
    "dst__ = None \n",
    "if len(good) > MIN_MATCH_COUNT:\n",
    "    src_pts = np.float32([kp1[m.queryIdx].pt for m in good]).reshape(-1, 1, 2)\n",
    "    dst_pts = np.float32([kp2[m.trainIdx].pt for m in good]).reshape(-1, 1, 2)\n",
    "    M, mask = cv2.findHomography(src_pts, dst_pts, cv2.RANSAC, 5.0)\n",
    "    matchesMask = mask.ravel().tolist()\n",
    "    h, w = img1.shape\n",
    "    pts__ = np.float32([[0, 0], [0, h-1], [w-1, h-1], [w-1, 0]]).reshape(-1, 1, 2)\n",
    "    dst__ = cv2.perspectiveTransform(pts__, M)\n",
    "    # img2 = cv2.polylines(img2, [np.int32(dst__)], True, 255, 3, cv2.LINE_AA)\n",
    "else:\n",
    "    print(\"Not enough matches are found - {}/{}\".format(len(good), MIN_MATCH_COUNT))\n",
    "    matchesMask = None\n",
    "\n",
    "# 绘制匹配结果\n",
    "draw_params = dict(matchColor=(0, 255, 0),  # draw matches in green color\n",
    "                singlePointColor=None,\n",
    "                matchesMask=matchesMask,  # draw only inliers\n",
    "                flags=2)\n",
    "img3 = cv2.drawMatches(img1, kp1, img2, kp2, good, None, **draw_params)\n",
    "\n",
    "# 对应的点发生了偏移\n",
    "shift_x = np.float32([[w-1, 0], [w-1, 0], [w-1, 0], [w-1, 0]]).reshape(-1, 1, 2)\n",
    "dst2__ = np.int32(dst__ + shift_x)\n",
    "\n",
    "# 绘制原始图像图像的位置和查找目标的位置\n",
    "img3 = cv2.polylines(img3, [np.int32(pts__)], True, \n",
    "                    (0, 0, 255), 2, cv2.LINE_AA)\n",
    "img3 = cv2.polylines(img3, [np.int32(dst2__)], True,\n",
    "                    (0, 0, 255), 2, cv2.LINE_AA)\n",
    "\n",
    "cv2.imshow(\"result\", img3)\n",
    "cv2.waitKey(0)\n",
    "cv2.destroyAllWindows()\n"
   ]
  }
 ],
 "metadata": {
  "kernelspec": {
   "display_name": "pytorch",
   "language": "python",
   "name": "python3"
  },
  "language_info": {
   "codemirror_mode": {
    "name": "ipython",
    "version": 3
   },
   "file_extension": ".py",
   "mimetype": "text/x-python",
   "name": "python",
   "nbconvert_exporter": "python",
   "pygments_lexer": "ipython3",
   "version": "3.8.13"
  },
  "orig_nbformat": 4,
  "vscode": {
   "interpreter": {
    "hash": "719f98299ccca36a884f9d141671719e20aaacc8082e234f139e455a4a5b836e"
   }
  }
 },
 "nbformat": 4,
 "nbformat_minor": 2
}

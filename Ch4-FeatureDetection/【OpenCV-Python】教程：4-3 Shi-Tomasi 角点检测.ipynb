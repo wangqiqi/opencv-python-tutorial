{
 "cells": [
  {
   "cell_type": "code",
   "execution_count": 5,
   "metadata": {},
   "outputs": [
    {
     "name": "stdout",
     "output_type": "stream",
     "text": [
      "166\n",
      "166\n"
     ]
    }
   ],
   "source": [
    "import numpy as np \n",
    "import cv2\n",
    "\n",
    "from matplotlib import pyplot as plt\n",
    "\n",
    "# img = cv2.imread(\"assets/blox.jpg\")\n",
    "img = cv2.imread(\"assets/box.png\")\n",
    "gray = cv2.cvtColor(img, cv2.COLOR_BGR2GRAY)\n",
    "\n",
    "# #############################################\n",
    "# harris 角点检测\n",
    "gray_harris = np.float32(gray)\n",
    "# dst 为角点相应，并没有直接返回角点位置\n",
    "dst = cv2.cornerHarris(gray_harris, 2, 3, 0.04)\n",
    "# 角点响应，消除一些噪声，所以要做膨胀和腐蚀\n",
    "dst = cv2.dilate(dst, None)\n",
    "dst = cv2.erode(dst, None)\n",
    "ret, dst = cv2.threshold(dst, 0.01 * dst.max(), 255, cv2.THRESH_BINARY)\n",
    "dst = np.uint8(dst)\n",
    "\n",
    "# 取连通区域\n",
    "ret, labels, stats, centroids = cv2.connectedComponentsWithStats(dst)\n",
    "print(len(centroids))\n",
    "# print(centroids)\n",
    "img_harris = img.copy()\n",
    "for xy in centroids:\n",
    "    x, y = int(xy[0]), int(xy[1])\n",
    "    cv2.circle(img_harris, (x, y), 3, (0, 255, 255), -1)\n",
    "cv2.imshow(\"img_harris\", img_harris)\n",
    "\n",
    "###########################################\n",
    "# shi-Tomasi 角点检测\n",
    "# 这里为了统一对比，也选择56个角点\n",
    "# corners = cv2.goodFeaturesToTrack(gray, maxCorners=56, qualityLevel=0.01, minDistance=10)\n",
    "corners = cv2.goodFeaturesToTrack(gray, maxCorners=166, qualityLevel=0.01, minDistance=10)\n",
    "corners = np.int0(corners)\n",
    "print(len(corners))\n",
    "img_goodfeatures = img.copy()\n",
    "for i in corners:\n",
    "    x, y = i.ravel()\n",
    "    cv2.circle(img_goodfeatures, (x, y), 3, (0, 0, 255), -1)\n",
    "\n",
    "cv2.imshow(\"img_goodfeatures\", img_goodfeatures)\n",
    "\n",
    "cv2.waitKey(0)\n",
    "cv2.destroyAllWindows()"
   ]
  }
 ],
 "metadata": {
  "kernelspec": {
   "display_name": "base",
   "language": "python",
   "name": "python3"
  },
  "language_info": {
   "codemirror_mode": {
    "name": "ipython",
    "version": 3
   },
   "file_extension": ".py",
   "mimetype": "text/x-python",
   "name": "python",
   "nbconvert_exporter": "python",
   "pygments_lexer": "ipython3",
   "version": "3.9.12 (main, Jun  1 2022, 11:38:51) \n[GCC 7.5.0]"
  },
  "orig_nbformat": 4,
  "vscode": {
   "interpreter": {
    "hash": "21a5c39365767a2fa524ef69c1af2974b54020195af1241f50c0914f2616b7f9"
   }
  }
 },
 "nbformat": 4,
 "nbformat_minor": 2
}

{
 "cells": [
  {
   "cell_type": "code",
   "execution_count": null,
   "metadata": {},
   "outputs": [],
   "source": [
    "import numpy\n",
    "import cv2 \n",
    "\n",
    "# 读图像\n",
    "img = cv2.imread(\"assets/lena.jpg\")\n",
    "img_gray = cv2.cvtColor(img, cv2.COLOR_BGR2GRAY)\n",
    "\n",
    "# 创建 SIFT 检测器\n",
    "sift = cv2.SIFT_create()\n",
    "\n",
    "# 检测 SIFT 关键点\n",
    "kp = sift.detect(img_gray, None)\n",
    "\n",
    "# 另一种：检测 SIFT 关键点并 计算特征描述\n",
    "# kp, descriptors = sift.detectAndCompute(img_gray, None)\n",
    "\n",
    "# 画出所有关键点\n",
    "# img = cv2.drawKeypoints(img_gray, kp, img)\n",
    "# 画出尺度方向等丰富的信息\n",
    "img = cv2.drawKeypoints(img, kp, img,\n",
    "                        flags=cv2.DRAW_MATCHES_FLAGS_DRAW_RICH_KEYPOINTS)\n",
    "\n",
    "cv2.imshow(\"result\", img)\n",
    "cv2.waitKey(0)\n",
    "cv2.destroyAllWindows()\n"
   ]
  },
  {
   "cell_type": "code",
   "execution_count": 1,
   "metadata": {},
   "outputs": [
    {
     "name": "stdout",
     "output_type": "stream",
     "text": [
      "<class 'cv2.KeyPoint'>\n",
      "(363.8883056640625, 134.51792907714844)\n",
      "0.05348273366689682\n",
      "(100, 128)\n"
     ]
    }
   ],
   "source": [
    "import numpy\n",
    "import cv2\n",
    "\n",
    "img = cv2.imread(\"assets/home.jpg\")\n",
    "img_gray = cv2.cvtColor(img, cv2.COLOR_BGR2GRAY)\n",
    "\n",
    "sift = cv2.SIFT_create(nfeatures=100)\n",
    "# kp = sift.detect(img_gray, None)\n",
    "kp, descriptors = sift.detectAndCompute(img_gray, None)\n",
    "\n",
    "print(type(kp[0]))\n",
    "print(kp[0].pt)\n",
    "print(kp[0].response)\n",
    "\n",
    "print(descriptors.shape)\n",
    "\n",
    "# 画出所有关键点\n",
    "# img = cv2.drawKeypoints(img_gray, kp, img)\n",
    "# 画出尺度方向等丰富的信息\n",
    "img = cv2.drawKeypoints(\n",
    "    img_gray, kp, img, flags=cv2.DRAW_MATCHES_FLAGS_DRAW_RICH_KEYPOINTS)\n",
    "\n",
    "cv2.imshow(\"result\", img)\n",
    "cv2.waitKey(0)\n",
    "cv2.destroyAllWindows()\n"
   ]
  }
 ],
 "metadata": {
  "kernelspec": {
   "display_name": "pytorch",
   "language": "python",
   "name": "python3"
  },
  "language_info": {
   "codemirror_mode": {
    "name": "ipython",
    "version": 3
   },
   "file_extension": ".py",
   "mimetype": "text/x-python",
   "name": "python",
   "nbconvert_exporter": "python",
   "pygments_lexer": "ipython3",
   "version": "3.8.13 | packaged by conda-forge | (default, Mar 25 2022, 05:59:00) [MSC v.1929 64 bit (AMD64)]"
  },
  "orig_nbformat": 4,
  "vscode": {
   "interpreter": {
    "hash": "719f98299ccca36a884f9d141671719e20aaacc8082e234f139e455a4a5b836e"
   }
  }
 },
 "nbformat": 4,
 "nbformat_minor": 2
}

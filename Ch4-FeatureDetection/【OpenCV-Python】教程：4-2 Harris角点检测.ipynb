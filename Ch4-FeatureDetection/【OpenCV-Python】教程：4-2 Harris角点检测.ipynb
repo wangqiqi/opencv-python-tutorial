{
 "cells": [
  {
   "cell_type": "code",
   "execution_count": 15,
   "metadata": {},
   "outputs": [],
   "source": [
    "import cv2\n",
    "import numpy as np \n",
    "\n",
    "# 读入图片并灰度化\n",
    "# img = cv2.imread(\"assets/blox.jpg\")\n",
    "img = cv2.imread(\"assets/left08.jpg\")\n",
    "# img = cv2.imread(\"assets/chessboard(1).png\")\n",
    "gray = cv2.cvtColor(img, cv2.COLOR_BGR2GRAY)\n",
    "\n",
    "# 检测角点\n",
    "gray = np.float32(gray)\n",
    "dst = cv2.cornerHarris(gray, 2, 3, 0.04)\n",
    "\n",
    "# 膨胀\n",
    "dst = cv2.dilate(dst, None)\n",
    "\n",
    "# 找到计算值比较大的，并显示\n",
    "img[dst>0.01*dst.max()] = [0, 0, 255]\n",
    "\n",
    "cv2.imshow('dst', img)\n",
    "cv2.waitKey(0)\n",
    "cv2.destroyAllWindows()"
   ]
  },
  {
   "cell_type": "code",
   "execution_count": 14,
   "metadata": {},
   "outputs": [
    {
     "data": {
      "text/plain": [
       "True"
      ]
     },
     "execution_count": 14,
     "metadata": {},
     "output_type": "execute_result"
    }
   ],
   "source": [
    "import numpy as np\n",
    "import cv2\n",
    "\n",
    "# 读入图片并灰度化\n",
    "img = cv2.imread(\"assets/left08.jpg\")\n",
    "gray = cv2.cvtColor(img,cv2.COLOR_BGR2GRAY)\n",
    "\n",
    "# 寻找角点\n",
    "gray = np.float32(gray)\n",
    "dst = cv2.cornerHarris(gray, 2, 3, 0.04)\n",
    "\n",
    "# 阈值化找到角点 \n",
    "dst = cv2.dilate(dst,None)\n",
    "\n",
    "# 阈值化\n",
    "ret, dst = cv2.threshold(dst, 0.01*dst.max(), 255, 0)\n",
    "dst = np.uint8(dst)\n",
    "\n",
    "# 找到连通域中心\n",
    "ret, labels, stats, centroids = cv2.connectedComponentsWithStats(dst)\n",
    "\n",
    "# 寻找亚像素角点\n",
    "criteria = (cv2.TERM_CRITERIA_EPS + cv2.TERM_CRITERIA_MAX_ITER, 100, 0.001)\n",
    "corners = cv2.cornerSubPix(gray, np.float32(centroids), (5,5), (-1,-1), criteria)\n",
    "\n",
    "# 显示\n",
    "res = np.hstack((centroids, corners))\n",
    "res = np.int0(res)\n",
    "img[res[:,1],res[:,0]]=[0,0,255]\n",
    "img[res[:,3],res[:,2]] = [0,255,0]\n",
    "\n",
    "cv2.imshow(\"res\", img)\n",
    "cv2.imshow(\"dst\", dst)\n",
    "\n",
    "cv2.waitKey(0)\n",
    "cv2.destroyAllWindows()\n",
    "\n",
    "cv2.imwrite('subpixel5.png', img)\n"
   ]
  }
 ],
 "metadata": {
  "kernelspec": {
   "display_name": "Python 3.8.13 ('pytorch')",
   "language": "python",
   "name": "python3"
  },
  "language_info": {
   "codemirror_mode": {
    "name": "ipython",
    "version": 3
   },
   "file_extension": ".py",
   "mimetype": "text/x-python",
   "name": "python",
   "nbconvert_exporter": "python",
   "pygments_lexer": "ipython3",
   "version": "3.8.13"
  },
  "orig_nbformat": 4,
  "vscode": {
   "interpreter": {
    "hash": "719f98299ccca36a884f9d141671719e20aaacc8082e234f139e455a4a5b836e"
   }
  }
 },
 "nbformat": 4,
 "nbformat_minor": 2
}
